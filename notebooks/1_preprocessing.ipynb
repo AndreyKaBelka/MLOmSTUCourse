{
 "cells": [
  {
   "cell_type": "markdown",
   "source": [
    "# Предобработка датасета"
   ],
   "metadata": {
    "collapsed": false,
    "pycharm": {
     "name": "#%% md\n"
    }
   }
  },
  {
   "cell_type": "code",
   "execution_count": 1,
   "metadata": {
    "collapsed": true
   },
   "outputs": [
    {
     "data": {
      "text/plain": "                    Movie    Year  Ratings  Genre        Gross       Budget  \\\n0                 13 Sins  2014.0      6.3    8.0       9130.0    4000000.0   \n1          22 Jump Street  2014.0      7.1    1.0  192000000.0   50000000.0   \n2          3 Days to Kill  2014.0      6.2    1.0   30700000.0   28000000.0   \n3  300: Rise of an Empire  2014.0      6.3    1.0  106000000.0  110000000.0   \n4       A Haunted House 2  2014.0      4.7    8.0   17300000.0    3500000.0   \n5          A Long Way Off  2014.0      4.6    3.0      29000.0     500000.0   \n\n   Screens  Sequel  Sentiment      Views    Likes  Dislikes  Comments  \\\n0     45.0     1.0        0.0  3280543.0   4632.0     425.0     636.0   \n1   3306.0     2.0        2.0   583289.0   3465.0      61.0     186.0   \n2   2872.0     1.0        0.0   304861.0    328.0      34.0      47.0   \n3   3470.0     2.0        0.0   452917.0   2429.0     132.0     590.0   \n4   2310.0     2.0        0.0  3145573.0  12163.0     610.0    1082.0   \n5      NaN     1.0        0.0    91137.0    112.0       7.0       1.0   \n\n   Aggregate Followers  \n0            1120000.0  \n1           12350000.0  \n2             483000.0  \n3             568000.0  \n4            1923800.0  \n5             310000.0  ",
      "text/html": "<div>\n<style scoped>\n    .dataframe tbody tr th:only-of-type {\n        vertical-align: middle;\n    }\n\n    .dataframe tbody tr th {\n        vertical-align: top;\n    }\n\n    .dataframe thead th {\n        text-align: right;\n    }\n</style>\n<table border=\"1\" class=\"dataframe\">\n  <thead>\n    <tr style=\"text-align: right;\">\n      <th></th>\n      <th>Movie</th>\n      <th>Year</th>\n      <th>Ratings</th>\n      <th>Genre</th>\n      <th>Gross</th>\n      <th>Budget</th>\n      <th>Screens</th>\n      <th>Sequel</th>\n      <th>Sentiment</th>\n      <th>Views</th>\n      <th>Likes</th>\n      <th>Dislikes</th>\n      <th>Comments</th>\n      <th>Aggregate Followers</th>\n    </tr>\n  </thead>\n  <tbody>\n    <tr>\n      <th>0</th>\n      <td>13 Sins</td>\n      <td>2014.0</td>\n      <td>6.3</td>\n      <td>8.0</td>\n      <td>9130.0</td>\n      <td>4000000.0</td>\n      <td>45.0</td>\n      <td>1.0</td>\n      <td>0.0</td>\n      <td>3280543.0</td>\n      <td>4632.0</td>\n      <td>425.0</td>\n      <td>636.0</td>\n      <td>1120000.0</td>\n    </tr>\n    <tr>\n      <th>1</th>\n      <td>22 Jump Street</td>\n      <td>2014.0</td>\n      <td>7.1</td>\n      <td>1.0</td>\n      <td>192000000.0</td>\n      <td>50000000.0</td>\n      <td>3306.0</td>\n      <td>2.0</td>\n      <td>2.0</td>\n      <td>583289.0</td>\n      <td>3465.0</td>\n      <td>61.0</td>\n      <td>186.0</td>\n      <td>12350000.0</td>\n    </tr>\n    <tr>\n      <th>2</th>\n      <td>3 Days to Kill</td>\n      <td>2014.0</td>\n      <td>6.2</td>\n      <td>1.0</td>\n      <td>30700000.0</td>\n      <td>28000000.0</td>\n      <td>2872.0</td>\n      <td>1.0</td>\n      <td>0.0</td>\n      <td>304861.0</td>\n      <td>328.0</td>\n      <td>34.0</td>\n      <td>47.0</td>\n      <td>483000.0</td>\n    </tr>\n    <tr>\n      <th>3</th>\n      <td>300: Rise of an Empire</td>\n      <td>2014.0</td>\n      <td>6.3</td>\n      <td>1.0</td>\n      <td>106000000.0</td>\n      <td>110000000.0</td>\n      <td>3470.0</td>\n      <td>2.0</td>\n      <td>0.0</td>\n      <td>452917.0</td>\n      <td>2429.0</td>\n      <td>132.0</td>\n      <td>590.0</td>\n      <td>568000.0</td>\n    </tr>\n    <tr>\n      <th>4</th>\n      <td>A Haunted House 2</td>\n      <td>2014.0</td>\n      <td>4.7</td>\n      <td>8.0</td>\n      <td>17300000.0</td>\n      <td>3500000.0</td>\n      <td>2310.0</td>\n      <td>2.0</td>\n      <td>0.0</td>\n      <td>3145573.0</td>\n      <td>12163.0</td>\n      <td>610.0</td>\n      <td>1082.0</td>\n      <td>1923800.0</td>\n    </tr>\n    <tr>\n      <th>5</th>\n      <td>A Long Way Off</td>\n      <td>2014.0</td>\n      <td>4.6</td>\n      <td>3.0</td>\n      <td>29000.0</td>\n      <td>500000.0</td>\n      <td>NaN</td>\n      <td>1.0</td>\n      <td>0.0</td>\n      <td>91137.0</td>\n      <td>112.0</td>\n      <td>7.0</td>\n      <td>1.0</td>\n      <td>310000.0</td>\n    </tr>\n  </tbody>\n</table>\n</div>"
     },
     "execution_count": 1,
     "metadata": {},
     "output_type": "execute_result"
    }
   ],
   "source": [
    "import pandas as pd\n",
    "\n",
    "movie_data = pd.read_csv('../data/CSM_snake_case.csv')\n",
    "movie_data.head(6)"
   ]
  },
  {
   "cell_type": "markdown",
   "source": [
    "## Пропуски данных\n",
    "\n",
    "Узнаем столбцы с пропусками\n"
   ],
   "metadata": {
    "collapsed": false
   }
  },
  {
   "cell_type": "code",
   "execution_count": 2,
   "outputs": [
    {
     "data": {
      "text/plain": "Movie                   1\nYear                    1\nRatings                 1\nGenre                   1\nGross                   1\nBudget                  2\nScreens                11\nSequel                  1\nSentiment               1\nViews                   1\nLikes                   1\nDislikes                1\nComments                1\nAggregate Followers    36\ndtype: int64"
     },
     "execution_count": 2,
     "metadata": {},
     "output_type": "execute_result"
    }
   ],
   "source": [
    "movie_data.isnull().sum()"
   ],
   "metadata": {
    "collapsed": false,
    "pycharm": {
     "name": "#%%\n"
    }
   }
  },
  {
   "cell_type": "markdown",
   "source": [
    "Заполняем пропуски"
   ],
   "metadata": {
    "collapsed": false
   }
  },
  {
   "cell_type": "code",
   "execution_count": 3,
   "outputs": [
    {
     "data": {
      "text/plain": "Movie                  1\nYear                   0\nRatings                0\nGenre                  0\nGross                  0\nBudget                 0\nScreens                0\nSequel                 0\nSentiment              0\nViews                  0\nLikes                  0\nDislikes               0\nComments               0\nAggregate Followers    0\ndtype: int64"
     },
     "execution_count": 3,
     "metadata": {},
     "output_type": "execute_result"
    }
   ],
   "source": [
    "movie_data.fillna(movie_data.mean()).isnull().sum()"
   ],
   "metadata": {
    "collapsed": false,
    "pycharm": {
     "name": "#%%\n"
    }
   }
  },
  {
   "cell_type": "markdown",
   "source": [
    "Проверяем вставки"
   ],
   "metadata": {
    "collapsed": false
   }
  },
  {
   "cell_type": "code",
   "execution_count": 4,
   "outputs": [
    {
     "name": "stdout",
     "output_type": "stream",
     "text": [
      "<class 'pandas.core.frame.DataFrame'>\n",
      "RangeIndex: 232 entries, 0 to 231\n",
      "Data columns (total 14 columns):\n",
      " #   Column               Non-Null Count  Dtype  \n",
      "---  ------               --------------  -----  \n",
      " 0   Movie                231 non-null    object \n",
      " 1   Year                 231 non-null    float64\n",
      " 2   Ratings              231 non-null    float64\n",
      " 3   Genre                231 non-null    float64\n",
      " 4   Gross                231 non-null    float64\n",
      " 5   Budget               230 non-null    float64\n",
      " 6   Screens              221 non-null    float64\n",
      " 7   Sequel               231 non-null    float64\n",
      " 8   Sentiment            231 non-null    float64\n",
      " 9   Views                231 non-null    float64\n",
      " 10  Likes                231 non-null    float64\n",
      " 11  Dislikes             231 non-null    float64\n",
      " 12  Comments             231 non-null    float64\n",
      " 13  Aggregate Followers  196 non-null    float64\n",
      "dtypes: float64(13), object(1)\n",
      "memory usage: 25.5+ KB\n"
     ]
    }
   ],
   "source": [
    "movie_data.info()"
   ],
   "metadata": {
    "collapsed": false,
    "pycharm": {
     "name": "#%%\n"
    }
   }
  },
  {
   "cell_type": "markdown",
   "source": [
    "Сохраняем в csv"
   ],
   "metadata": {
    "collapsed": false,
    "pycharm": {
     "name": "#%% md\n"
    }
   }
  },
  {
   "cell_type": "code",
   "execution_count": 5,
   "outputs": [],
   "source": [
    "movie_data.to_csv('../data/CSM_snake_case.csv', index=False)"
   ],
   "metadata": {
    "collapsed": false,
    "pycharm": {
     "name": "#%%\n"
    }
   }
  }
 ],
 "metadata": {
  "kernelspec": {
   "display_name": "Python 3",
   "language": "python",
   "name": "python3"
  },
  "language_info": {
   "codemirror_mode": {
    "name": "ipython",
    "version": 2
   },
   "file_extension": ".py",
   "mimetype": "text/x-python",
   "name": "python",
   "nbconvert_exporter": "python",
   "pygments_lexer": "ipython2",
   "version": "2.7.6"
  }
 },
 "nbformat": 4,
 "nbformat_minor": 0
}