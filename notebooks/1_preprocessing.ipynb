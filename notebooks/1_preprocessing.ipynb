{
 "cells": [
  {
   "cell_type": "code",
   "source": [
    "import pandas as pd"
   ],
   "metadata": {
    "collapsed": false,
    "pycharm": {
     "name": "#%%\n"
    }
   },
   "execution_count": 1,
   "outputs": []
  },
  {
   "cell_type": "markdown",
   "source": [
    "## Датасет bank_churners.csv"
   ],
   "metadata": {
    "collapsed": false
   }
  },
  {
   "cell_type": "code",
   "execution_count": 2,
   "outputs": [],
   "source": [
    "bank_data = pd.read_csv('../data/bank_churners.csv', sep = ',')"
   ],
   "metadata": {
    "collapsed": false,
    "pycharm": {
     "name": "#%%\n"
    }
   }
  },
  {
   "cell_type": "code",
   "execution_count": 3,
   "outputs": [
    {
     "data": {
      "text/plain": "       CLIENTNUM     Attrition_Flag  Customer_Age Gender  Dependent_count  \\\n0      768805383  Existing Customer            45      M                3   \n1      818770008  Existing Customer            49      F                5   \n2      713982108  Existing Customer            51      M                3   \n3      769911858  Existing Customer            40      F                4   \n4      709106358  Existing Customer            40      M                3   \n...          ...                ...           ...    ...              ...   \n10122  772366833  Existing Customer            50      M                2   \n10123  710638233  Attrited Customer            41      M                2   \n10124  716506083  Attrited Customer            44      F                1   \n10125  717406983  Attrited Customer            30      M                2   \n10126  714337233  Attrited Customer            43      F                2   \n\n      Education_Level Marital_Status Income_Category Card_Category  \\\n0         High School        Married     $60K - $80K          Blue   \n1            Graduate         Single  Less than $40K          Blue   \n2            Graduate        Married    $80K - $120K          Blue   \n3         High School        Unknown  Less than $40K          Blue   \n4          Uneducated        Married     $60K - $80K          Blue   \n...               ...            ...             ...           ...   \n10122        Graduate         Single     $40K - $60K          Blue   \n10123         Unknown       Divorced     $40K - $60K          Blue   \n10124     High School        Married  Less than $40K          Blue   \n10125        Graduate        Unknown     $40K - $60K          Blue   \n10126        Graduate        Married  Less than $40K        Silver   \n\n       Months_on_book  ...  Credit_Limit  Total_Revolving_Bal  \\\n0                  39  ...       12691.0                  777   \n1                  44  ...        8256.0                  864   \n2                  36  ...        3418.0                    0   \n3                  34  ...        3313.0                 2517   \n4                  21  ...        4716.0                    0   \n...               ...  ...           ...                  ...   \n10122              40  ...        4003.0                 1851   \n10123              25  ...        4277.0                 2186   \n10124              36  ...        5409.0                    0   \n10125              36  ...        5281.0                    0   \n10126              25  ...       10388.0                 1961   \n\n       Avg_Open_To_Buy  Total_Amt_Chng_Q4_Q1  Total_Trans_Amt  Total_Trans_Ct  \\\n0              11914.0                 1.335             1144              42   \n1               7392.0                 1.541             1291              33   \n2               3418.0                 2.594             1887              20   \n3                796.0                 1.405             1171              20   \n4               4716.0                 2.175              816              28   \n...                ...                   ...              ...             ...   \n10122           2152.0                 0.703            15476             117   \n10123           2091.0                 0.804             8764              69   \n10124           5409.0                 0.819            10291              60   \n10125           5281.0                 0.535             8395              62   \n10126           8427.0                 0.703            10294              61   \n\n       Total_Ct_Chng_Q4_Q1  Avg_Utilization_Ratio  \\\n0                    1.625                  0.061   \n1                    3.714                  0.105   \n2                    2.333                  0.000   \n3                    2.333                  0.760   \n4                    2.500                  0.000   \n...                    ...                    ...   \n10122                0.857                  0.462   \n10123                0.683                  0.511   \n10124                0.818                  0.000   \n10125                0.722                  0.000   \n10126                0.649                  0.189   \n\n       Naive_Bayes_Classifier_Attrition_Flag_Card_Category_Contacts_Count_12_mon_Dependent_count_Education_Level_Months_Inactive_12_mon_1  \\\n0                                               0.000093                                                                                    \n1                                               0.000057                                                                                    \n2                                               0.000021                                                                                    \n3                                               0.000134                                                                                    \n4                                               0.000022                                                                                    \n...                                                  ...                                                                                    \n10122                                           0.000191                                                                                    \n10123                                           0.995270                                                                                    \n10124                                           0.997880                                                                                    \n10125                                           0.996710                                                                                    \n10126                                           0.996620                                                                                    \n\n       Naive_Bayes_Classifier_Attrition_Flag_Card_Category_Contacts_Count_12_mon_Dependent_count_Education_Level_Months_Inactive_12_mon_2  \n0                                               0.999910                                                                                   \n1                                               0.999940                                                                                   \n2                                               0.999980                                                                                   \n3                                               0.999870                                                                                   \n4                                               0.999980                                                                                   \n...                                                  ...                                                                                   \n10122                                           0.999810                                                                                   \n10123                                           0.004729                                                                                   \n10124                                           0.002118                                                                                   \n10125                                           0.003294                                                                                   \n10126                                           0.003377                                                                                   \n\n[10127 rows x 23 columns]",
      "text/html": "<div>\n<style scoped>\n    .dataframe tbody tr th:only-of-type {\n        vertical-align: middle;\n    }\n\n    .dataframe tbody tr th {\n        vertical-align: top;\n    }\n\n    .dataframe thead th {\n        text-align: right;\n    }\n</style>\n<table border=\"1\" class=\"dataframe\">\n  <thead>\n    <tr style=\"text-align: right;\">\n      <th></th>\n      <th>CLIENTNUM</th>\n      <th>Attrition_Flag</th>\n      <th>Customer_Age</th>\n      <th>Gender</th>\n      <th>Dependent_count</th>\n      <th>Education_Level</th>\n      <th>Marital_Status</th>\n      <th>Income_Category</th>\n      <th>Card_Category</th>\n      <th>Months_on_book</th>\n      <th>...</th>\n      <th>Credit_Limit</th>\n      <th>Total_Revolving_Bal</th>\n      <th>Avg_Open_To_Buy</th>\n      <th>Total_Amt_Chng_Q4_Q1</th>\n      <th>Total_Trans_Amt</th>\n      <th>Total_Trans_Ct</th>\n      <th>Total_Ct_Chng_Q4_Q1</th>\n      <th>Avg_Utilization_Ratio</th>\n      <th>Naive_Bayes_Classifier_Attrition_Flag_Card_Category_Contacts_Count_12_mon_Dependent_count_Education_Level_Months_Inactive_12_mon_1</th>\n      <th>Naive_Bayes_Classifier_Attrition_Flag_Card_Category_Contacts_Count_12_mon_Dependent_count_Education_Level_Months_Inactive_12_mon_2</th>\n    </tr>\n  </thead>\n  <tbody>\n    <tr>\n      <th>0</th>\n      <td>768805383</td>\n      <td>Existing Customer</td>\n      <td>45</td>\n      <td>M</td>\n      <td>3</td>\n      <td>High School</td>\n      <td>Married</td>\n      <td>$60K - $80K</td>\n      <td>Blue</td>\n      <td>39</td>\n      <td>...</td>\n      <td>12691.0</td>\n      <td>777</td>\n      <td>11914.0</td>\n      <td>1.335</td>\n      <td>1144</td>\n      <td>42</td>\n      <td>1.625</td>\n      <td>0.061</td>\n      <td>0.000093</td>\n      <td>0.999910</td>\n    </tr>\n    <tr>\n      <th>1</th>\n      <td>818770008</td>\n      <td>Existing Customer</td>\n      <td>49</td>\n      <td>F</td>\n      <td>5</td>\n      <td>Graduate</td>\n      <td>Single</td>\n      <td>Less than $40K</td>\n      <td>Blue</td>\n      <td>44</td>\n      <td>...</td>\n      <td>8256.0</td>\n      <td>864</td>\n      <td>7392.0</td>\n      <td>1.541</td>\n      <td>1291</td>\n      <td>33</td>\n      <td>3.714</td>\n      <td>0.105</td>\n      <td>0.000057</td>\n      <td>0.999940</td>\n    </tr>\n    <tr>\n      <th>2</th>\n      <td>713982108</td>\n      <td>Existing Customer</td>\n      <td>51</td>\n      <td>M</td>\n      <td>3</td>\n      <td>Graduate</td>\n      <td>Married</td>\n      <td>$80K - $120K</td>\n      <td>Blue</td>\n      <td>36</td>\n      <td>...</td>\n      <td>3418.0</td>\n      <td>0</td>\n      <td>3418.0</td>\n      <td>2.594</td>\n      <td>1887</td>\n      <td>20</td>\n      <td>2.333</td>\n      <td>0.000</td>\n      <td>0.000021</td>\n      <td>0.999980</td>\n    </tr>\n    <tr>\n      <th>3</th>\n      <td>769911858</td>\n      <td>Existing Customer</td>\n      <td>40</td>\n      <td>F</td>\n      <td>4</td>\n      <td>High School</td>\n      <td>Unknown</td>\n      <td>Less than $40K</td>\n      <td>Blue</td>\n      <td>34</td>\n      <td>...</td>\n      <td>3313.0</td>\n      <td>2517</td>\n      <td>796.0</td>\n      <td>1.405</td>\n      <td>1171</td>\n      <td>20</td>\n      <td>2.333</td>\n      <td>0.760</td>\n      <td>0.000134</td>\n      <td>0.999870</td>\n    </tr>\n    <tr>\n      <th>4</th>\n      <td>709106358</td>\n      <td>Existing Customer</td>\n      <td>40</td>\n      <td>M</td>\n      <td>3</td>\n      <td>Uneducated</td>\n      <td>Married</td>\n      <td>$60K - $80K</td>\n      <td>Blue</td>\n      <td>21</td>\n      <td>...</td>\n      <td>4716.0</td>\n      <td>0</td>\n      <td>4716.0</td>\n      <td>2.175</td>\n      <td>816</td>\n      <td>28</td>\n      <td>2.500</td>\n      <td>0.000</td>\n      <td>0.000022</td>\n      <td>0.999980</td>\n    </tr>\n    <tr>\n      <th>...</th>\n      <td>...</td>\n      <td>...</td>\n      <td>...</td>\n      <td>...</td>\n      <td>...</td>\n      <td>...</td>\n      <td>...</td>\n      <td>...</td>\n      <td>...</td>\n      <td>...</td>\n      <td>...</td>\n      <td>...</td>\n      <td>...</td>\n      <td>...</td>\n      <td>...</td>\n      <td>...</td>\n      <td>...</td>\n      <td>...</td>\n      <td>...</td>\n      <td>...</td>\n      <td>...</td>\n    </tr>\n    <tr>\n      <th>10122</th>\n      <td>772366833</td>\n      <td>Existing Customer</td>\n      <td>50</td>\n      <td>M</td>\n      <td>2</td>\n      <td>Graduate</td>\n      <td>Single</td>\n      <td>$40K - $60K</td>\n      <td>Blue</td>\n      <td>40</td>\n      <td>...</td>\n      <td>4003.0</td>\n      <td>1851</td>\n      <td>2152.0</td>\n      <td>0.703</td>\n      <td>15476</td>\n      <td>117</td>\n      <td>0.857</td>\n      <td>0.462</td>\n      <td>0.000191</td>\n      <td>0.999810</td>\n    </tr>\n    <tr>\n      <th>10123</th>\n      <td>710638233</td>\n      <td>Attrited Customer</td>\n      <td>41</td>\n      <td>M</td>\n      <td>2</td>\n      <td>Unknown</td>\n      <td>Divorced</td>\n      <td>$40K - $60K</td>\n      <td>Blue</td>\n      <td>25</td>\n      <td>...</td>\n      <td>4277.0</td>\n      <td>2186</td>\n      <td>2091.0</td>\n      <td>0.804</td>\n      <td>8764</td>\n      <td>69</td>\n      <td>0.683</td>\n      <td>0.511</td>\n      <td>0.995270</td>\n      <td>0.004729</td>\n    </tr>\n    <tr>\n      <th>10124</th>\n      <td>716506083</td>\n      <td>Attrited Customer</td>\n      <td>44</td>\n      <td>F</td>\n      <td>1</td>\n      <td>High School</td>\n      <td>Married</td>\n      <td>Less than $40K</td>\n      <td>Blue</td>\n      <td>36</td>\n      <td>...</td>\n      <td>5409.0</td>\n      <td>0</td>\n      <td>5409.0</td>\n      <td>0.819</td>\n      <td>10291</td>\n      <td>60</td>\n      <td>0.818</td>\n      <td>0.000</td>\n      <td>0.997880</td>\n      <td>0.002118</td>\n    </tr>\n    <tr>\n      <th>10125</th>\n      <td>717406983</td>\n      <td>Attrited Customer</td>\n      <td>30</td>\n      <td>M</td>\n      <td>2</td>\n      <td>Graduate</td>\n      <td>Unknown</td>\n      <td>$40K - $60K</td>\n      <td>Blue</td>\n      <td>36</td>\n      <td>...</td>\n      <td>5281.0</td>\n      <td>0</td>\n      <td>5281.0</td>\n      <td>0.535</td>\n      <td>8395</td>\n      <td>62</td>\n      <td>0.722</td>\n      <td>0.000</td>\n      <td>0.996710</td>\n      <td>0.003294</td>\n    </tr>\n    <tr>\n      <th>10126</th>\n      <td>714337233</td>\n      <td>Attrited Customer</td>\n      <td>43</td>\n      <td>F</td>\n      <td>2</td>\n      <td>Graduate</td>\n      <td>Married</td>\n      <td>Less than $40K</td>\n      <td>Silver</td>\n      <td>25</td>\n      <td>...</td>\n      <td>10388.0</td>\n      <td>1961</td>\n      <td>8427.0</td>\n      <td>0.703</td>\n      <td>10294</td>\n      <td>61</td>\n      <td>0.649</td>\n      <td>0.189</td>\n      <td>0.996620</td>\n      <td>0.003377</td>\n    </tr>\n  </tbody>\n</table>\n<p>10127 rows × 23 columns</p>\n</div>"
     },
     "execution_count": 3,
     "metadata": {},
     "output_type": "execute_result"
    }
   ],
   "source": [
    "bank_data"
   ],
   "metadata": {
    "collapsed": false,
    "pycharm": {
     "name": "#%%\n"
    }
   }
  },
  {
   "cell_type": "markdown",
   "source": [
    "Удалим ненужные признаки из датасета"
   ],
   "metadata": {
    "collapsed": false
   }
  },
  {
   "cell_type": "code",
   "execution_count": 4,
   "outputs": [],
   "source": [
    "bank_data.drop('CLIENTNUM', axis=1, inplace=True)\n",
    "bank_data.drop('Naive_Bayes_Classifier_Attrition_Flag_Card_Category_Contacts_Count_12_mon_Dependent_count_Education_Level_Months_Inactive_12_mon_1', axis=1, inplace=True);\n",
    "bank_data.drop('Naive_Bayes_Classifier_Attrition_Flag_Card_Category_Contacts_Count_12_mon_Dependent_count_Education_Level_Months_Inactive_12_mon_2', axis=1, inplace=True);"
   ],
   "metadata": {
    "collapsed": false,
    "pycharm": {
     "name": "#%%\n"
    }
   }
  },
  {
   "cell_type": "markdown",
   "source": [
    "Проверим наличие пустых значений признаков"
   ],
   "metadata": {
    "collapsed": false
   }
  },
  {
   "cell_type": "code",
   "execution_count": 5,
   "outputs": [
    {
     "data": {
      "text/plain": "Attrition_Flag              0\nCustomer_Age                0\nGender                      0\nDependent_count             0\nEducation_Level             0\nMarital_Status              0\nIncome_Category             0\nCard_Category               0\nMonths_on_book              0\nTotal_Relationship_Count    0\nMonths_Inactive_12_mon      0\nContacts_Count_12_mon       0\nCredit_Limit                0\nTotal_Revolving_Bal         0\nAvg_Open_To_Buy             0\nTotal_Amt_Chng_Q4_Q1        0\nTotal_Trans_Amt             0\nTotal_Trans_Ct              0\nTotal_Ct_Chng_Q4_Q1         0\nAvg_Utilization_Ratio       0\ndtype: int64"
     },
     "execution_count": 5,
     "metadata": {},
     "output_type": "execute_result"
    }
   ],
   "source": [
    "bank_data.isnull().sum()"
   ],
   "metadata": {
    "collapsed": false,
    "pycharm": {
     "name": "#%%\n"
    }
   }
  },
  {
   "cell_type": "markdown",
   "source": [
    "В предоставленных данных отсутствуют пустые (пропущенные значения)."
   ],
   "metadata": {
    "collapsed": false
   }
  },
  {
   "cell_type": "markdown",
   "source": [
    "Порядковые и бинарные признаки обработаем с помощью map()."
   ],
   "metadata": {
    "collapsed": false
   }
  },
  {
   "cell_type": "code",
   "execution_count": 6,
   "outputs": [],
   "source": [
    "bank_data[\"Attrition_Flag\"] = bank_data[\"Attrition_Flag\"].map({'Existing Customer': 0, 'Attrited Customer': 1})"
   ],
   "metadata": {
    "collapsed": false,
    "pycharm": {
     "name": "#%%\n"
    }
   }
  },
  {
   "cell_type": "code",
   "execution_count": 7,
   "outputs": [],
   "source": [
    "education_level_map = {'Unknown': 0, 'Uneducated' : 1, 'High School': 2,\n",
    "                       'College' : 3, 'Doctorate' : 4, 'Graduate' : 5,\n",
    "                       'Post-Graduate': 6}\n",
    "\n",
    "bank_data[\"Education_Level\"] = bank_data[\"Education_Level\"].map(education_level_map)"
   ],
   "metadata": {
    "collapsed": false,
    "pycharm": {
     "name": "#%%\n"
    }
   }
  },
  {
   "cell_type": "code",
   "execution_count": 8,
   "outputs": [],
   "source": [
    "income_category_map = {'Unknown': 0, 'Less than $40K' : 1, '$40K - $60K': 2,\n",
    "                       '$60K - $80K' : 3, '$80K - $120K' : 4, '$120K +' : 5}\n",
    "\n",
    "bank_data[\"Income_Category\"] = bank_data[\"Income_Category\"].map(income_category_map)"
   ],
   "metadata": {
    "collapsed": false,
    "pycharm": {
     "name": "#%%\n"
    }
   }
  },
  {
   "cell_type": "code",
   "execution_count": 9,
   "outputs": [],
   "source": [
    "card_category_map = {'Blue': 0, 'Silver' : 1, 'Gold': 2, 'Platinum' : 3}\n",
    "bank_data[\"Card_Category\"] = bank_data[\"Card_Category\"].map(card_category_map)"
   ],
   "metadata": {
    "collapsed": false,
    "pycharm": {
     "name": "#%%\n"
    }
   }
  },
  {
   "cell_type": "markdown",
   "source": [
    "Категориальные признаки обработаем one-hot кодированием."
   ],
   "metadata": {
    "collapsed": false
   }
  },
  {
   "cell_type": "code",
   "execution_count": 10,
   "outputs": [
    {
     "data": {
      "text/plain": "       Attrition_Flag  Customer_Age  Dependent_count  Education_Level  \\\n0                   0            45                3                2   \n1                   0            49                5                5   \n2                   0            51                3                5   \n3                   0            40                4                2   \n4                   0            40                3                1   \n...               ...           ...              ...              ...   \n10122               0            50                2                5   \n10123               1            41                2                0   \n10124               1            44                1                2   \n10125               1            30                2                5   \n10126               1            43                2                5   \n\n       Income_Category  Card_Category  Months_on_book  \\\n0                    3              0              39   \n1                    1              0              44   \n2                    4              0              36   \n3                    1              0              34   \n4                    3              0              21   \n...                ...            ...             ...   \n10122                2              0              40   \n10123                2              0              25   \n10124                1              0              36   \n10125                2              0              36   \n10126                1              1              25   \n\n       Total_Relationship_Count  Months_Inactive_12_mon  \\\n0                             5                       1   \n1                             6                       1   \n2                             4                       1   \n3                             3                       4   \n4                             5                       1   \n...                         ...                     ...   \n10122                         3                       2   \n10123                         4                       2   \n10124                         5                       3   \n10125                         4                       3   \n10126                         6                       2   \n\n       Contacts_Count_12_mon  ...  Total_Trans_Amt  Total_Trans_Ct  \\\n0                          3  ...             1144              42   \n1                          2  ...             1291              33   \n2                          0  ...             1887              20   \n3                          1  ...             1171              20   \n4                          0  ...              816              28   \n...                      ...  ...              ...             ...   \n10122                      3  ...            15476             117   \n10123                      3  ...             8764              69   \n10124                      4  ...            10291              60   \n10125                      3  ...             8395              62   \n10126                      4  ...            10294              61   \n\n       Total_Ct_Chng_Q4_Q1  Avg_Utilization_Ratio  c_F  c_M  c_Divorced  \\\n0                    1.625                  0.061    0    1           0   \n1                    3.714                  0.105    1    0           0   \n2                    2.333                  0.000    0    1           0   \n3                    2.333                  0.760    1    0           0   \n4                    2.500                  0.000    0    1           0   \n...                    ...                    ...  ...  ...         ...   \n10122                0.857                  0.462    0    1           0   \n10123                0.683                  0.511    0    1           1   \n10124                0.818                  0.000    1    0           0   \n10125                0.722                  0.000    0    1           0   \n10126                0.649                  0.189    1    0           0   \n\n       c_Married  c_Single  c_Unknown  \n0              1         0          0  \n1              0         1          0  \n2              1         0          0  \n3              0         0          1  \n4              1         0          0  \n...          ...       ...        ...  \n10122          0         1          0  \n10123          0         0          0  \n10124          1         0          0  \n10125          0         0          1  \n10126          1         0          0  \n\n[10127 rows x 24 columns]",
      "text/html": "<div>\n<style scoped>\n    .dataframe tbody tr th:only-of-type {\n        vertical-align: middle;\n    }\n\n    .dataframe tbody tr th {\n        vertical-align: top;\n    }\n\n    .dataframe thead th {\n        text-align: right;\n    }\n</style>\n<table border=\"1\" class=\"dataframe\">\n  <thead>\n    <tr style=\"text-align: right;\">\n      <th></th>\n      <th>Attrition_Flag</th>\n      <th>Customer_Age</th>\n      <th>Dependent_count</th>\n      <th>Education_Level</th>\n      <th>Income_Category</th>\n      <th>Card_Category</th>\n      <th>Months_on_book</th>\n      <th>Total_Relationship_Count</th>\n      <th>Months_Inactive_12_mon</th>\n      <th>Contacts_Count_12_mon</th>\n      <th>...</th>\n      <th>Total_Trans_Amt</th>\n      <th>Total_Trans_Ct</th>\n      <th>Total_Ct_Chng_Q4_Q1</th>\n      <th>Avg_Utilization_Ratio</th>\n      <th>c_F</th>\n      <th>c_M</th>\n      <th>c_Divorced</th>\n      <th>c_Married</th>\n      <th>c_Single</th>\n      <th>c_Unknown</th>\n    </tr>\n  </thead>\n  <tbody>\n    <tr>\n      <th>0</th>\n      <td>0</td>\n      <td>45</td>\n      <td>3</td>\n      <td>2</td>\n      <td>3</td>\n      <td>0</td>\n      <td>39</td>\n      <td>5</td>\n      <td>1</td>\n      <td>3</td>\n      <td>...</td>\n      <td>1144</td>\n      <td>42</td>\n      <td>1.625</td>\n      <td>0.061</td>\n      <td>0</td>\n      <td>1</td>\n      <td>0</td>\n      <td>1</td>\n      <td>0</td>\n      <td>0</td>\n    </tr>\n    <tr>\n      <th>1</th>\n      <td>0</td>\n      <td>49</td>\n      <td>5</td>\n      <td>5</td>\n      <td>1</td>\n      <td>0</td>\n      <td>44</td>\n      <td>6</td>\n      <td>1</td>\n      <td>2</td>\n      <td>...</td>\n      <td>1291</td>\n      <td>33</td>\n      <td>3.714</td>\n      <td>0.105</td>\n      <td>1</td>\n      <td>0</td>\n      <td>0</td>\n      <td>0</td>\n      <td>1</td>\n      <td>0</td>\n    </tr>\n    <tr>\n      <th>2</th>\n      <td>0</td>\n      <td>51</td>\n      <td>3</td>\n      <td>5</td>\n      <td>4</td>\n      <td>0</td>\n      <td>36</td>\n      <td>4</td>\n      <td>1</td>\n      <td>0</td>\n      <td>...</td>\n      <td>1887</td>\n      <td>20</td>\n      <td>2.333</td>\n      <td>0.000</td>\n      <td>0</td>\n      <td>1</td>\n      <td>0</td>\n      <td>1</td>\n      <td>0</td>\n      <td>0</td>\n    </tr>\n    <tr>\n      <th>3</th>\n      <td>0</td>\n      <td>40</td>\n      <td>4</td>\n      <td>2</td>\n      <td>1</td>\n      <td>0</td>\n      <td>34</td>\n      <td>3</td>\n      <td>4</td>\n      <td>1</td>\n      <td>...</td>\n      <td>1171</td>\n      <td>20</td>\n      <td>2.333</td>\n      <td>0.760</td>\n      <td>1</td>\n      <td>0</td>\n      <td>0</td>\n      <td>0</td>\n      <td>0</td>\n      <td>1</td>\n    </tr>\n    <tr>\n      <th>4</th>\n      <td>0</td>\n      <td>40</td>\n      <td>3</td>\n      <td>1</td>\n      <td>3</td>\n      <td>0</td>\n      <td>21</td>\n      <td>5</td>\n      <td>1</td>\n      <td>0</td>\n      <td>...</td>\n      <td>816</td>\n      <td>28</td>\n      <td>2.500</td>\n      <td>0.000</td>\n      <td>0</td>\n      <td>1</td>\n      <td>0</td>\n      <td>1</td>\n      <td>0</td>\n      <td>0</td>\n    </tr>\n    <tr>\n      <th>...</th>\n      <td>...</td>\n      <td>...</td>\n      <td>...</td>\n      <td>...</td>\n      <td>...</td>\n      <td>...</td>\n      <td>...</td>\n      <td>...</td>\n      <td>...</td>\n      <td>...</td>\n      <td>...</td>\n      <td>...</td>\n      <td>...</td>\n      <td>...</td>\n      <td>...</td>\n      <td>...</td>\n      <td>...</td>\n      <td>...</td>\n      <td>...</td>\n      <td>...</td>\n      <td>...</td>\n    </tr>\n    <tr>\n      <th>10122</th>\n      <td>0</td>\n      <td>50</td>\n      <td>2</td>\n      <td>5</td>\n      <td>2</td>\n      <td>0</td>\n      <td>40</td>\n      <td>3</td>\n      <td>2</td>\n      <td>3</td>\n      <td>...</td>\n      <td>15476</td>\n      <td>117</td>\n      <td>0.857</td>\n      <td>0.462</td>\n      <td>0</td>\n      <td>1</td>\n      <td>0</td>\n      <td>0</td>\n      <td>1</td>\n      <td>0</td>\n    </tr>\n    <tr>\n      <th>10123</th>\n      <td>1</td>\n      <td>41</td>\n      <td>2</td>\n      <td>0</td>\n      <td>2</td>\n      <td>0</td>\n      <td>25</td>\n      <td>4</td>\n      <td>2</td>\n      <td>3</td>\n      <td>...</td>\n      <td>8764</td>\n      <td>69</td>\n      <td>0.683</td>\n      <td>0.511</td>\n      <td>0</td>\n      <td>1</td>\n      <td>1</td>\n      <td>0</td>\n      <td>0</td>\n      <td>0</td>\n    </tr>\n    <tr>\n      <th>10124</th>\n      <td>1</td>\n      <td>44</td>\n      <td>1</td>\n      <td>2</td>\n      <td>1</td>\n      <td>0</td>\n      <td>36</td>\n      <td>5</td>\n      <td>3</td>\n      <td>4</td>\n      <td>...</td>\n      <td>10291</td>\n      <td>60</td>\n      <td>0.818</td>\n      <td>0.000</td>\n      <td>1</td>\n      <td>0</td>\n      <td>0</td>\n      <td>1</td>\n      <td>0</td>\n      <td>0</td>\n    </tr>\n    <tr>\n      <th>10125</th>\n      <td>1</td>\n      <td>30</td>\n      <td>2</td>\n      <td>5</td>\n      <td>2</td>\n      <td>0</td>\n      <td>36</td>\n      <td>4</td>\n      <td>3</td>\n      <td>3</td>\n      <td>...</td>\n      <td>8395</td>\n      <td>62</td>\n      <td>0.722</td>\n      <td>0.000</td>\n      <td>0</td>\n      <td>1</td>\n      <td>0</td>\n      <td>0</td>\n      <td>0</td>\n      <td>1</td>\n    </tr>\n    <tr>\n      <th>10126</th>\n      <td>1</td>\n      <td>43</td>\n      <td>2</td>\n      <td>5</td>\n      <td>1</td>\n      <td>1</td>\n      <td>25</td>\n      <td>6</td>\n      <td>2</td>\n      <td>4</td>\n      <td>...</td>\n      <td>10294</td>\n      <td>61</td>\n      <td>0.649</td>\n      <td>0.189</td>\n      <td>1</td>\n      <td>0</td>\n      <td>0</td>\n      <td>1</td>\n      <td>0</td>\n      <td>0</td>\n    </tr>\n  </tbody>\n</table>\n<p>10127 rows × 24 columns</p>\n</div>"
     },
     "execution_count": 10,
     "metadata": {},
     "output_type": "execute_result"
    }
   ],
   "source": [
    "bank_data = pd.get_dummies(data=bank_data, prefix='c', columns=['Gender', 'Marital_Status'])\n",
    "bank_data"
   ],
   "metadata": {
    "collapsed": false,
    "pycharm": {
     "name": "#%%\n"
    }
   }
  },
  {
   "cell_type": "markdown",
   "source": [
    "Сохраним подготовленные данные в отдельный csv файл."
   ],
   "metadata": {
    "collapsed": false
   }
  },
  {
   "cell_type": "code",
   "execution_count": 11,
   "outputs": [],
   "source": [
    "bank_data.to_csv('../data/bank_churners_preprocessed.csv', sep=',')"
   ],
   "metadata": {
    "collapsed": false,
    "pycharm": {
     "name": "#%%\n"
    }
   }
  },
  {
   "cell_type": "markdown",
   "source": [
    "## Датасет apartment_data.csv"
   ],
   "metadata": {
    "collapsed": false
   }
  },
  {
   "cell_type": "code",
   "execution_count": 12,
   "outputs": [],
   "source": [
    "apartments_data = pd.read_csv('../data/apartment_data.csv', sep = ',')"
   ],
   "metadata": {
    "collapsed": false,
    "pycharm": {
     "name": "#%%\n"
    }
   }
  },
  {
   "cell_type": "code",
   "execution_count": 13,
   "outputs": [
    {
     "data": {
      "text/plain": "      SalePrice  YearBuilt  YrSold  MonthSold  Size(sqf)  Floor HallwayType  \\\n0        141592       2006    2007          8        814      3    terraced   \n1         51327       1985    2007          8        587      8    corridor   \n2         48672       1985    2007          8        587      6    corridor   \n3        380530       2006    2007          8       2056      8    terraced   \n4        221238       1993    2007          8       1761      3       mixed   \n...         ...        ...     ...        ...        ...    ...         ...   \n5886     511504       2007    2017          8       1643     19    terraced   \n5887     298230       2006    2017          8        903     13    terraced   \n5888     357522       2007    2017          8        868     20    terraced   \n5889     312389       1978    2017          8       1327      1    corridor   \n5890     393805       2007    2017          8        868     13    terraced   \n\n             HeatingType        AptManageType  N_Parkinglot(Ground)  ...  \\\n0     individual_heating  management_in_trust                 111.0  ...   \n1     individual_heating      self_management                  80.0  ...   \n2     individual_heating      self_management                  80.0  ...   \n3     individual_heating  management_in_trust                 249.0  ...   \n4     individual_heating  management_in_trust                 523.0  ...   \n...                  ...                  ...                   ...  ...   \n5886  individual_heating  management_in_trust                   0.0  ...   \n5887  individual_heating  management_in_trust                 123.0  ...   \n5888  individual_heating  management_in_trust                   0.0  ...   \n5889  individual_heating      self_management                  87.0  ...   \n5890  individual_heating  management_in_trust                   0.0  ...   \n\n      N_FacilitiesNearBy(Mall) N_FacilitiesNearBy(ETC)  \\\n0                          1.0                     1.0   \n1                          1.0                     2.0   \n2                          1.0                     2.0   \n3                          1.0                     0.0   \n4                          1.0                     5.0   \n...                        ...                     ...   \n5886                       1.0                     0.0   \n5887                       1.0                     2.0   \n5888                       1.0                     0.0   \n5889                       1.0                     0.0   \n5890                       1.0                     0.0   \n\n     N_FacilitiesNearBy(Park)  N_SchoolNearBy(Elementary)  \\\n0                         0.0                         3.0   \n1                         1.0                         2.0   \n2                         1.0                         2.0   \n3                         0.0                         2.0   \n4                         0.0                         4.0   \n...                       ...                         ...   \n5886                      2.0                         3.0   \n5887                      0.0                         4.0   \n5888                      2.0                         3.0   \n5889                      0.0                         3.0   \n5890                      2.0                         3.0   \n\n      N_SchoolNearBy(Middle)  N_SchoolNearBy(High) N_SchoolNearBy(University)  \\\n0                        2.0                   2.0                        2.0   \n1                        1.0                   1.0                        0.0   \n2                        1.0                   1.0                        0.0   \n3                        2.0                   1.0                        2.0   \n4                        3.0                   5.0                        5.0   \n...                      ...                   ...                        ...   \n5886                     3.0                   2.0                        2.0   \n5887                     3.0                   3.0                        1.0   \n5888                     3.0                   2.0                        2.0   \n5889                     3.0                   3.0                        2.0   \n5890                     3.0                   2.0                        2.0   \n\n      N_FacilitiesInApt  N_FacilitiesNearBy(Total)  N_SchoolNearBy(Total)  \n0                     5                        6.0                    9.0  \n1                     3                       12.0                    4.0  \n2                     3                       12.0                    4.0  \n3                     5                        3.0                    7.0  \n4                     4                       14.0                   17.0  \n...                 ...                        ...                    ...  \n5886                 10                        9.0                   10.0  \n5887                  4                        8.0                   11.0  \n5888                 10                        9.0                   10.0  \n5889                  3                        7.0                   11.0  \n5890                 10                        9.0                   10.0  \n\n[5891 rows x 30 columns]",
      "text/html": "<div>\n<style scoped>\n    .dataframe tbody tr th:only-of-type {\n        vertical-align: middle;\n    }\n\n    .dataframe tbody tr th {\n        vertical-align: top;\n    }\n\n    .dataframe thead th {\n        text-align: right;\n    }\n</style>\n<table border=\"1\" class=\"dataframe\">\n  <thead>\n    <tr style=\"text-align: right;\">\n      <th></th>\n      <th>SalePrice</th>\n      <th>YearBuilt</th>\n      <th>YrSold</th>\n      <th>MonthSold</th>\n      <th>Size(sqf)</th>\n      <th>Floor</th>\n      <th>HallwayType</th>\n      <th>HeatingType</th>\n      <th>AptManageType</th>\n      <th>N_Parkinglot(Ground)</th>\n      <th>...</th>\n      <th>N_FacilitiesNearBy(Mall)</th>\n      <th>N_FacilitiesNearBy(ETC)</th>\n      <th>N_FacilitiesNearBy(Park)</th>\n      <th>N_SchoolNearBy(Elementary)</th>\n      <th>N_SchoolNearBy(Middle)</th>\n      <th>N_SchoolNearBy(High)</th>\n      <th>N_SchoolNearBy(University)</th>\n      <th>N_FacilitiesInApt</th>\n      <th>N_FacilitiesNearBy(Total)</th>\n      <th>N_SchoolNearBy(Total)</th>\n    </tr>\n  </thead>\n  <tbody>\n    <tr>\n      <th>0</th>\n      <td>141592</td>\n      <td>2006</td>\n      <td>2007</td>\n      <td>8</td>\n      <td>814</td>\n      <td>3</td>\n      <td>terraced</td>\n      <td>individual_heating</td>\n      <td>management_in_trust</td>\n      <td>111.0</td>\n      <td>...</td>\n      <td>1.0</td>\n      <td>1.0</td>\n      <td>0.0</td>\n      <td>3.0</td>\n      <td>2.0</td>\n      <td>2.0</td>\n      <td>2.0</td>\n      <td>5</td>\n      <td>6.0</td>\n      <td>9.0</td>\n    </tr>\n    <tr>\n      <th>1</th>\n      <td>51327</td>\n      <td>1985</td>\n      <td>2007</td>\n      <td>8</td>\n      <td>587</td>\n      <td>8</td>\n      <td>corridor</td>\n      <td>individual_heating</td>\n      <td>self_management</td>\n      <td>80.0</td>\n      <td>...</td>\n      <td>1.0</td>\n      <td>2.0</td>\n      <td>1.0</td>\n      <td>2.0</td>\n      <td>1.0</td>\n      <td>1.0</td>\n      <td>0.0</td>\n      <td>3</td>\n      <td>12.0</td>\n      <td>4.0</td>\n    </tr>\n    <tr>\n      <th>2</th>\n      <td>48672</td>\n      <td>1985</td>\n      <td>2007</td>\n      <td>8</td>\n      <td>587</td>\n      <td>6</td>\n      <td>corridor</td>\n      <td>individual_heating</td>\n      <td>self_management</td>\n      <td>80.0</td>\n      <td>...</td>\n      <td>1.0</td>\n      <td>2.0</td>\n      <td>1.0</td>\n      <td>2.0</td>\n      <td>1.0</td>\n      <td>1.0</td>\n      <td>0.0</td>\n      <td>3</td>\n      <td>12.0</td>\n      <td>4.0</td>\n    </tr>\n    <tr>\n      <th>3</th>\n      <td>380530</td>\n      <td>2006</td>\n      <td>2007</td>\n      <td>8</td>\n      <td>2056</td>\n      <td>8</td>\n      <td>terraced</td>\n      <td>individual_heating</td>\n      <td>management_in_trust</td>\n      <td>249.0</td>\n      <td>...</td>\n      <td>1.0</td>\n      <td>0.0</td>\n      <td>0.0</td>\n      <td>2.0</td>\n      <td>2.0</td>\n      <td>1.0</td>\n      <td>2.0</td>\n      <td>5</td>\n      <td>3.0</td>\n      <td>7.0</td>\n    </tr>\n    <tr>\n      <th>4</th>\n      <td>221238</td>\n      <td>1993</td>\n      <td>2007</td>\n      <td>8</td>\n      <td>1761</td>\n      <td>3</td>\n      <td>mixed</td>\n      <td>individual_heating</td>\n      <td>management_in_trust</td>\n      <td>523.0</td>\n      <td>...</td>\n      <td>1.0</td>\n      <td>5.0</td>\n      <td>0.0</td>\n      <td>4.0</td>\n      <td>3.0</td>\n      <td>5.0</td>\n      <td>5.0</td>\n      <td>4</td>\n      <td>14.0</td>\n      <td>17.0</td>\n    </tr>\n    <tr>\n      <th>...</th>\n      <td>...</td>\n      <td>...</td>\n      <td>...</td>\n      <td>...</td>\n      <td>...</td>\n      <td>...</td>\n      <td>...</td>\n      <td>...</td>\n      <td>...</td>\n      <td>...</td>\n      <td>...</td>\n      <td>...</td>\n      <td>...</td>\n      <td>...</td>\n      <td>...</td>\n      <td>...</td>\n      <td>...</td>\n      <td>...</td>\n      <td>...</td>\n      <td>...</td>\n      <td>...</td>\n    </tr>\n    <tr>\n      <th>5886</th>\n      <td>511504</td>\n      <td>2007</td>\n      <td>2017</td>\n      <td>8</td>\n      <td>1643</td>\n      <td>19</td>\n      <td>terraced</td>\n      <td>individual_heating</td>\n      <td>management_in_trust</td>\n      <td>0.0</td>\n      <td>...</td>\n      <td>1.0</td>\n      <td>0.0</td>\n      <td>2.0</td>\n      <td>3.0</td>\n      <td>3.0</td>\n      <td>2.0</td>\n      <td>2.0</td>\n      <td>10</td>\n      <td>9.0</td>\n      <td>10.0</td>\n    </tr>\n    <tr>\n      <th>5887</th>\n      <td>298230</td>\n      <td>2006</td>\n      <td>2017</td>\n      <td>8</td>\n      <td>903</td>\n      <td>13</td>\n      <td>terraced</td>\n      <td>individual_heating</td>\n      <td>management_in_trust</td>\n      <td>123.0</td>\n      <td>...</td>\n      <td>1.0</td>\n      <td>2.0</td>\n      <td>0.0</td>\n      <td>4.0</td>\n      <td>3.0</td>\n      <td>3.0</td>\n      <td>1.0</td>\n      <td>4</td>\n      <td>8.0</td>\n      <td>11.0</td>\n    </tr>\n    <tr>\n      <th>5888</th>\n      <td>357522</td>\n      <td>2007</td>\n      <td>2017</td>\n      <td>8</td>\n      <td>868</td>\n      <td>20</td>\n      <td>terraced</td>\n      <td>individual_heating</td>\n      <td>management_in_trust</td>\n      <td>0.0</td>\n      <td>...</td>\n      <td>1.0</td>\n      <td>0.0</td>\n      <td>2.0</td>\n      <td>3.0</td>\n      <td>3.0</td>\n      <td>2.0</td>\n      <td>2.0</td>\n      <td>10</td>\n      <td>9.0</td>\n      <td>10.0</td>\n    </tr>\n    <tr>\n      <th>5889</th>\n      <td>312389</td>\n      <td>1978</td>\n      <td>2017</td>\n      <td>8</td>\n      <td>1327</td>\n      <td>1</td>\n      <td>corridor</td>\n      <td>individual_heating</td>\n      <td>self_management</td>\n      <td>87.0</td>\n      <td>...</td>\n      <td>1.0</td>\n      <td>0.0</td>\n      <td>0.0</td>\n      <td>3.0</td>\n      <td>3.0</td>\n      <td>3.0</td>\n      <td>2.0</td>\n      <td>3</td>\n      <td>7.0</td>\n      <td>11.0</td>\n    </tr>\n    <tr>\n      <th>5890</th>\n      <td>393805</td>\n      <td>2007</td>\n      <td>2017</td>\n      <td>8</td>\n      <td>868</td>\n      <td>13</td>\n      <td>terraced</td>\n      <td>individual_heating</td>\n      <td>management_in_trust</td>\n      <td>0.0</td>\n      <td>...</td>\n      <td>1.0</td>\n      <td>0.0</td>\n      <td>2.0</td>\n      <td>3.0</td>\n      <td>3.0</td>\n      <td>2.0</td>\n      <td>2.0</td>\n      <td>10</td>\n      <td>9.0</td>\n      <td>10.0</td>\n    </tr>\n  </tbody>\n</table>\n<p>5891 rows × 30 columns</p>\n</div>"
     },
     "execution_count": 13,
     "metadata": {},
     "output_type": "execute_result"
    }
   ],
   "source": [
    "apartments_data"
   ],
   "metadata": {
    "collapsed": false,
    "pycharm": {
     "name": "#%%\n"
    }
   }
  },
  {
   "cell_type": "markdown",
   "source": [
    "Отдельно рассмотрим порядковые признаки"
   ],
   "metadata": {
    "collapsed": false
   }
  },
  {
   "cell_type": "code",
   "execution_count": 14,
   "outputs": [
    {
     "name": "stdout",
     "output_type": "stream",
     "text": [
      "['5min~10min' '0~5min' '10min~15min']\n",
      "['10min~15min' '5min~10min' '0-5min' '15min~20min' 'no_bus_stop_nearby']\n"
     ]
    }
   ],
   "source": [
    "apartments_data[[\"TimeToBusStop\",\"TimeToSubway\"]]\n",
    "print(apartments_data[\"TimeToBusStop\"].unique())\n",
    "print(apartments_data[\"TimeToSubway\"].unique())"
   ],
   "metadata": {
    "collapsed": false,
    "pycharm": {
     "name": "#%%\n"
    }
   }
  },
  {
   "cell_type": "markdown",
   "source": [
    "Значение no_bus_stop_nearby признака TimeToSubway будем интерпретировать как отсутствие\n",
    "рядом с апартаментами автобусной остановки, вследствие чего житель неизбежно должен\n",
    "воспользоваться метро"
   ],
   "metadata": {
    "collapsed": false
   }
  },
  {
   "cell_type": "markdown",
   "source": [
    "Порядковые и бинарные признаки обработаем с помощью map()."
   ],
   "metadata": {
    "collapsed": false
   }
  },
  {
   "cell_type": "code",
   "execution_count": 15,
   "outputs": [
    {
     "data": {
      "text/plain": "      TimeToBusStop  TimeToSubway\n0                 1             2\n1                 2             3\n2                 2             3\n3                 2             4\n4                 2             1\n...             ...           ...\n5886              2             4\n5887              1             4\n5888              2             4\n5889              2             4\n5890              2             4\n\n[5891 rows x 2 columns]",
      "text/html": "<div>\n<style scoped>\n    .dataframe tbody tr th:only-of-type {\n        vertical-align: middle;\n    }\n\n    .dataframe tbody tr th {\n        vertical-align: top;\n    }\n\n    .dataframe thead th {\n        text-align: right;\n    }\n</style>\n<table border=\"1\" class=\"dataframe\">\n  <thead>\n    <tr style=\"text-align: right;\">\n      <th></th>\n      <th>TimeToBusStop</th>\n      <th>TimeToSubway</th>\n    </tr>\n  </thead>\n  <tbody>\n    <tr>\n      <th>0</th>\n      <td>1</td>\n      <td>2</td>\n    </tr>\n    <tr>\n      <th>1</th>\n      <td>2</td>\n      <td>3</td>\n    </tr>\n    <tr>\n      <th>2</th>\n      <td>2</td>\n      <td>3</td>\n    </tr>\n    <tr>\n      <th>3</th>\n      <td>2</td>\n      <td>4</td>\n    </tr>\n    <tr>\n      <th>4</th>\n      <td>2</td>\n      <td>1</td>\n    </tr>\n    <tr>\n      <th>...</th>\n      <td>...</td>\n      <td>...</td>\n    </tr>\n    <tr>\n      <th>5886</th>\n      <td>2</td>\n      <td>4</td>\n    </tr>\n    <tr>\n      <th>5887</th>\n      <td>1</td>\n      <td>4</td>\n    </tr>\n    <tr>\n      <th>5888</th>\n      <td>2</td>\n      <td>4</td>\n    </tr>\n    <tr>\n      <th>5889</th>\n      <td>2</td>\n      <td>4</td>\n    </tr>\n    <tr>\n      <th>5890</th>\n      <td>2</td>\n      <td>4</td>\n    </tr>\n  </tbody>\n</table>\n<p>5891 rows × 2 columns</p>\n</div>"
     },
     "execution_count": 15,
     "metadata": {},
     "output_type": "execute_result"
    }
   ],
   "source": [
    "time_to_bus_stop_map = {'10min~15min': 0, '5min~10min' : 1, '0~5min': 2}\n",
    "time_to_subway_map = {'no_bus_stop_nearby': 0, '15min~20min' : 1, '10min~15min': 2,\n",
    "                      '5min~10min': 3, '0-5min': 4}\n",
    "apartments_data[\"TimeToBusStop\"] = apartments_data[\"TimeToBusStop\"].map(time_to_bus_stop_map)\n",
    "apartments_data[\"TimeToSubway\"] = apartments_data[\"TimeToSubway\"].map(time_to_subway_map)\n",
    "apartments_data[[\"TimeToBusStop\",\"TimeToSubway\"]]"
   ],
   "metadata": {
    "collapsed": false,
    "pycharm": {
     "name": "#%%\n"
    }
   }
  },
  {
   "cell_type": "markdown",
   "source": [
    "Категориальные признаки обработаем one-hot кодированием."
   ],
   "metadata": {
    "collapsed": false
   }
  },
  {
   "cell_type": "code",
   "execution_count": 16,
   "outputs": [
    {
     "data": {
      "text/plain": "      SalePrice  YearBuilt  YrSold  MonthSold  Size(sqf)  Floor  \\\n0        141592       2006    2007          8        814      3   \n1         51327       1985    2007          8        587      8   \n2         48672       1985    2007          8        587      6   \n3        380530       2006    2007          8       2056      8   \n4        221238       1993    2007          8       1761      3   \n...         ...        ...     ...        ...        ...    ...   \n5886     511504       2007    2017          8       1643     19   \n5887     298230       2006    2017          8        903     13   \n5888     357522       2007    2017          8        868     20   \n5889     312389       1978    2017          8       1327      1   \n5890     393805       2007    2017          8        868     13   \n\n      N_Parkinglot(Ground)  N_Parkinglot(Basement)  TimeToBusStop  \\\n0                    111.0                   184.0              1   \n1                     80.0                    76.0              2   \n2                     80.0                    76.0              2   \n3                    249.0                   536.0              2   \n4                    523.0                   536.0              2   \n...                    ...                     ...            ...   \n5886                   0.0                  1270.0              2   \n5887                 123.0                   181.0              1   \n5888                   0.0                  1270.0              2   \n5889                  87.0                     0.0              2   \n5890                   0.0                  1270.0              2   \n\n      TimeToSubway  ...  c_management_in_trust  c_self_management  c_Bangoge  \\\n0                2  ...                      1                  0          0   \n1                3  ...                      0                  1          0   \n2                3  ...                      0                  1          0   \n3                4  ...                      1                  0          0   \n4                1  ...                      1                  0          0   \n...            ...  ...                    ...                ...        ...   \n5886             4  ...                      1                  0          0   \n5887             4  ...                      1                  0          0   \n5888             4  ...                      1                  0          0   \n5889             4  ...                      0                  1          0   \n5890             4  ...                      1                  0          0   \n\n      c_Banwoldang  c_Chil-sung-market  c_Daegu  c_Kyungbuk_uni_hospital  \\\n0                0                   0        0                        1   \n1                0                   0        1                        0   \n2                0                   0        1                        0   \n3                0                   0        0                        0   \n4                0                   0        0                        0   \n...            ...                 ...      ...                      ...   \n5886             0                   0        0                        1   \n5887             0                   0        0                        0   \n5888             0                   0        0                        1   \n5889             0                   0        0                        1   \n5890             0                   0        0                        1   \n\n      c_Myung-duk  c_Sin-nam  c_no_subway_nearby  \n0               0          0                   0  \n1               0          0                   0  \n2               0          0                   0  \n3               0          1                   0  \n4               1          0                   0  \n...           ...        ...                 ...  \n5886            0          0                   0  \n5887            1          0                   0  \n5888            0          0                   0  \n5889            0          0                   0  \n5890            0          0                   0  \n\n[5891 rows x 41 columns]",
      "text/html": "<div>\n<style scoped>\n    .dataframe tbody tr th:only-of-type {\n        vertical-align: middle;\n    }\n\n    .dataframe tbody tr th {\n        vertical-align: top;\n    }\n\n    .dataframe thead th {\n        text-align: right;\n    }\n</style>\n<table border=\"1\" class=\"dataframe\">\n  <thead>\n    <tr style=\"text-align: right;\">\n      <th></th>\n      <th>SalePrice</th>\n      <th>YearBuilt</th>\n      <th>YrSold</th>\n      <th>MonthSold</th>\n      <th>Size(sqf)</th>\n      <th>Floor</th>\n      <th>N_Parkinglot(Ground)</th>\n      <th>N_Parkinglot(Basement)</th>\n      <th>TimeToBusStop</th>\n      <th>TimeToSubway</th>\n      <th>...</th>\n      <th>c_management_in_trust</th>\n      <th>c_self_management</th>\n      <th>c_Bangoge</th>\n      <th>c_Banwoldang</th>\n      <th>c_Chil-sung-market</th>\n      <th>c_Daegu</th>\n      <th>c_Kyungbuk_uni_hospital</th>\n      <th>c_Myung-duk</th>\n      <th>c_Sin-nam</th>\n      <th>c_no_subway_nearby</th>\n    </tr>\n  </thead>\n  <tbody>\n    <tr>\n      <th>0</th>\n      <td>141592</td>\n      <td>2006</td>\n      <td>2007</td>\n      <td>8</td>\n      <td>814</td>\n      <td>3</td>\n      <td>111.0</td>\n      <td>184.0</td>\n      <td>1</td>\n      <td>2</td>\n      <td>...</td>\n      <td>1</td>\n      <td>0</td>\n      <td>0</td>\n      <td>0</td>\n      <td>0</td>\n      <td>0</td>\n      <td>1</td>\n      <td>0</td>\n      <td>0</td>\n      <td>0</td>\n    </tr>\n    <tr>\n      <th>1</th>\n      <td>51327</td>\n      <td>1985</td>\n      <td>2007</td>\n      <td>8</td>\n      <td>587</td>\n      <td>8</td>\n      <td>80.0</td>\n      <td>76.0</td>\n      <td>2</td>\n      <td>3</td>\n      <td>...</td>\n      <td>0</td>\n      <td>1</td>\n      <td>0</td>\n      <td>0</td>\n      <td>0</td>\n      <td>1</td>\n      <td>0</td>\n      <td>0</td>\n      <td>0</td>\n      <td>0</td>\n    </tr>\n    <tr>\n      <th>2</th>\n      <td>48672</td>\n      <td>1985</td>\n      <td>2007</td>\n      <td>8</td>\n      <td>587</td>\n      <td>6</td>\n      <td>80.0</td>\n      <td>76.0</td>\n      <td>2</td>\n      <td>3</td>\n      <td>...</td>\n      <td>0</td>\n      <td>1</td>\n      <td>0</td>\n      <td>0</td>\n      <td>0</td>\n      <td>1</td>\n      <td>0</td>\n      <td>0</td>\n      <td>0</td>\n      <td>0</td>\n    </tr>\n    <tr>\n      <th>3</th>\n      <td>380530</td>\n      <td>2006</td>\n      <td>2007</td>\n      <td>8</td>\n      <td>2056</td>\n      <td>8</td>\n      <td>249.0</td>\n      <td>536.0</td>\n      <td>2</td>\n      <td>4</td>\n      <td>...</td>\n      <td>1</td>\n      <td>0</td>\n      <td>0</td>\n      <td>0</td>\n      <td>0</td>\n      <td>0</td>\n      <td>0</td>\n      <td>0</td>\n      <td>1</td>\n      <td>0</td>\n    </tr>\n    <tr>\n      <th>4</th>\n      <td>221238</td>\n      <td>1993</td>\n      <td>2007</td>\n      <td>8</td>\n      <td>1761</td>\n      <td>3</td>\n      <td>523.0</td>\n      <td>536.0</td>\n      <td>2</td>\n      <td>1</td>\n      <td>...</td>\n      <td>1</td>\n      <td>0</td>\n      <td>0</td>\n      <td>0</td>\n      <td>0</td>\n      <td>0</td>\n      <td>0</td>\n      <td>1</td>\n      <td>0</td>\n      <td>0</td>\n    </tr>\n    <tr>\n      <th>...</th>\n      <td>...</td>\n      <td>...</td>\n      <td>...</td>\n      <td>...</td>\n      <td>...</td>\n      <td>...</td>\n      <td>...</td>\n      <td>...</td>\n      <td>...</td>\n      <td>...</td>\n      <td>...</td>\n      <td>...</td>\n      <td>...</td>\n      <td>...</td>\n      <td>...</td>\n      <td>...</td>\n      <td>...</td>\n      <td>...</td>\n      <td>...</td>\n      <td>...</td>\n      <td>...</td>\n    </tr>\n    <tr>\n      <th>5886</th>\n      <td>511504</td>\n      <td>2007</td>\n      <td>2017</td>\n      <td>8</td>\n      <td>1643</td>\n      <td>19</td>\n      <td>0.0</td>\n      <td>1270.0</td>\n      <td>2</td>\n      <td>4</td>\n      <td>...</td>\n      <td>1</td>\n      <td>0</td>\n      <td>0</td>\n      <td>0</td>\n      <td>0</td>\n      <td>0</td>\n      <td>1</td>\n      <td>0</td>\n      <td>0</td>\n      <td>0</td>\n    </tr>\n    <tr>\n      <th>5887</th>\n      <td>298230</td>\n      <td>2006</td>\n      <td>2017</td>\n      <td>8</td>\n      <td>903</td>\n      <td>13</td>\n      <td>123.0</td>\n      <td>181.0</td>\n      <td>1</td>\n      <td>4</td>\n      <td>...</td>\n      <td>1</td>\n      <td>0</td>\n      <td>0</td>\n      <td>0</td>\n      <td>0</td>\n      <td>0</td>\n      <td>0</td>\n      <td>1</td>\n      <td>0</td>\n      <td>0</td>\n    </tr>\n    <tr>\n      <th>5888</th>\n      <td>357522</td>\n      <td>2007</td>\n      <td>2017</td>\n      <td>8</td>\n      <td>868</td>\n      <td>20</td>\n      <td>0.0</td>\n      <td>1270.0</td>\n      <td>2</td>\n      <td>4</td>\n      <td>...</td>\n      <td>1</td>\n      <td>0</td>\n      <td>0</td>\n      <td>0</td>\n      <td>0</td>\n      <td>0</td>\n      <td>1</td>\n      <td>0</td>\n      <td>0</td>\n      <td>0</td>\n    </tr>\n    <tr>\n      <th>5889</th>\n      <td>312389</td>\n      <td>1978</td>\n      <td>2017</td>\n      <td>8</td>\n      <td>1327</td>\n      <td>1</td>\n      <td>87.0</td>\n      <td>0.0</td>\n      <td>2</td>\n      <td>4</td>\n      <td>...</td>\n      <td>0</td>\n      <td>1</td>\n      <td>0</td>\n      <td>0</td>\n      <td>0</td>\n      <td>0</td>\n      <td>1</td>\n      <td>0</td>\n      <td>0</td>\n      <td>0</td>\n    </tr>\n    <tr>\n      <th>5890</th>\n      <td>393805</td>\n      <td>2007</td>\n      <td>2017</td>\n      <td>8</td>\n      <td>868</td>\n      <td>13</td>\n      <td>0.0</td>\n      <td>1270.0</td>\n      <td>2</td>\n      <td>4</td>\n      <td>...</td>\n      <td>1</td>\n      <td>0</td>\n      <td>0</td>\n      <td>0</td>\n      <td>0</td>\n      <td>0</td>\n      <td>1</td>\n      <td>0</td>\n      <td>0</td>\n      <td>0</td>\n    </tr>\n  </tbody>\n</table>\n<p>5891 rows × 41 columns</p>\n</div>"
     },
     "execution_count": 16,
     "metadata": {},
     "output_type": "execute_result"
    }
   ],
   "source": [
    "apartments_data[['HallwayType', 'HeatingType', 'AptManageType', 'SubwayStation']]\n",
    "apartments_data = pd.get_dummies(data=apartments_data, prefix='c', columns=['HallwayType', 'HeatingType', 'AptManageType', 'SubwayStation'])\n",
    "apartments_data"
   ],
   "metadata": {
    "collapsed": false,
    "pycharm": {
     "name": "#%%\n"
    }
   }
  },
  {
   "cell_type": "markdown",
   "source": [
    "Сохраним подготовленные данные в отдельный csv файл."
   ],
   "metadata": {
    "collapsed": false
   }
  },
  {
   "cell_type": "code",
   "execution_count": 17,
   "outputs": [],
   "source": [
    "apartments_data.to_csv('../data/apartment_data_preprocessed.csv', sep=',')\n"
   ],
   "metadata": {
    "collapsed": false,
    "pycharm": {
     "name": "#%%\n"
    }
   }
  }
 ],
 "metadata": {
  "kernelspec": {
   "name": "myenv",
   "language": "python",
   "display_name": "Python (myenv)"
  },
  "language_info": {
   "codemirror_mode": {
    "name": "ipython",
    "version": 2
   },
   "file_extension": ".py",
   "mimetype": "text/x-python",
   "name": "python",
   "nbconvert_exporter": "python",
   "pygments_lexer": "ipython2",
   "version": "2.7.6"
  }
 },
 "nbformat": 4,
 "nbformat_minor": 0
}