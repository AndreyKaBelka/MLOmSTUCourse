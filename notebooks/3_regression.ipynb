{
 "cells": [
  {
   "cell_type": "markdown",
   "source": [
    "Подключим необходимые библиотеки"
   ],
   "metadata": {
    "collapsed": false
   }
  },
  {
   "cell_type": "code",
   "execution_count": 31,
   "metadata": {
    "collapsed": true
   },
   "outputs": [],
   "source": [
    "import warnings\n",
    "import numpy as np\n",
    "import pandas as pd\n",
    "from sklearn.linear_model import LinearRegression, Lasso, LassoCV, Ridge, RidgeCV, ElasticNet, ElasticNetCV\n",
    "from sklearn.metrics import mean_squared_error, mean_absolute_error\n",
    "from sklearn.model_selection import train_test_split, GridSearchCV\n",
    "warnings.filterwarnings('ignore')"
   ]
  },
  {
   "cell_type": "markdown",
   "source": [
    "Подготовим функцию для вывода на печать метрик модели:"
   ],
   "metadata": {
    "collapsed": false
   }
  },
  {
   "cell_type": "code",
   "execution_count": 32,
   "outputs": [],
   "source": [
    "from sklearn.tree import DecisionTreeRegressor\n",
    "def print_model_metrics(estimator, y_train, y_pred):\n",
    "    print(f\"Коэффициент детерминации: {estimator.score(x_axis,y_axis)}\")\n",
    "    print(f'MSE: {mean_squared_error(y_train, y_pred)}')\n",
    "    print(f'RMSE: {mean_squared_error(y_train, y_pred, squared=False)}')\n",
    "    print(f'MAE: {mean_absolute_error(y_train, y_pred)}')"
   ],
   "metadata": {
    "collapsed": false,
    "pycharm": {
     "name": "#%%\n"
    }
   }
  },
  {
   "cell_type": "markdown",
   "source": [
    "Загрузим подготовленный в ЛР 1 датасет для классификации"
   ],
   "metadata": {
    "collapsed": false
   }
  },
  {
   "cell_type": "code",
   "execution_count": 33,
   "outputs": [
    {
     "data": {
      "text/plain": "       Year  Ratings  Genre        Gross       Budget      Screens  Sequel  \\\n0    2014.0      6.3    8.0       9130.0    4000000.0    45.000000     1.0   \n1    2014.0      7.1    1.0  192000000.0   50000000.0  3306.000000     2.0   \n2    2014.0      6.2    1.0   30700000.0   28000000.0  2872.000000     1.0   \n3    2014.0      6.3    1.0  106000000.0  110000000.0  3470.000000     2.0   \n4    2014.0      4.7    8.0   17300000.0    3500000.0  2310.000000     2.0   \n..      ...      ...    ...          ...          ...          ...     ...   \n226  2015.0      6.4    4.0    1210000.0   50000000.0    66.000000     1.0   \n227  2015.0      5.5   15.0   21000000.0   37000000.0  2815.000000     1.0   \n228  2015.0      5.4    8.0   10200000.0   35000000.0  2777.000000     1.0   \n229  2015.0      5.4    1.0   12300000.0    3000000.0  2209.244344     1.0   \n230  2015.0      4.4   15.0   22600000.0     100000.0  2720.000000     1.0   \n\n     Sentiment      Views    Likes  Dislikes  Comments  Aggregate Followers  \n0          0.0  3280543.0   4632.0     425.0     636.0         1.120000e+06  \n1          2.0   583289.0   3465.0      61.0     186.0         1.235000e+07  \n2          0.0   304861.0    328.0      34.0      47.0         4.830000e+05  \n3          0.0   452917.0   2429.0     132.0     590.0         5.680000e+05  \n4          0.0  3145573.0  12163.0     610.0    1082.0         1.923800e+06  \n..         ...        ...      ...       ...       ...                  ...  \n226        4.0  3701061.0   9325.0     641.0    1859.0         3.038193e+06  \n227       13.0  7119456.0  18803.0    1128.0    2290.0         3.038193e+06  \n228        7.0  3450614.0   6823.0     325.0     409.0         3.038193e+06  \n229       10.0    66872.0    400.0      67.0     201.0         3.038193e+06  \n230       -5.0   659772.0   2841.0     431.0     606.0         3.038193e+06  \n\n[231 rows x 13 columns]",
      "text/html": "<div>\n<style scoped>\n    .dataframe tbody tr th:only-of-type {\n        vertical-align: middle;\n    }\n\n    .dataframe tbody tr th {\n        vertical-align: top;\n    }\n\n    .dataframe thead th {\n        text-align: right;\n    }\n</style>\n<table border=\"1\" class=\"dataframe\">\n  <thead>\n    <tr style=\"text-align: right;\">\n      <th></th>\n      <th>Year</th>\n      <th>Ratings</th>\n      <th>Genre</th>\n      <th>Gross</th>\n      <th>Budget</th>\n      <th>Screens</th>\n      <th>Sequel</th>\n      <th>Sentiment</th>\n      <th>Views</th>\n      <th>Likes</th>\n      <th>Dislikes</th>\n      <th>Comments</th>\n      <th>Aggregate Followers</th>\n    </tr>\n  </thead>\n  <tbody>\n    <tr>\n      <th>0</th>\n      <td>2014.0</td>\n      <td>6.3</td>\n      <td>8.0</td>\n      <td>9130.0</td>\n      <td>4000000.0</td>\n      <td>45.000000</td>\n      <td>1.0</td>\n      <td>0.0</td>\n      <td>3280543.0</td>\n      <td>4632.0</td>\n      <td>425.0</td>\n      <td>636.0</td>\n      <td>1.120000e+06</td>\n    </tr>\n    <tr>\n      <th>1</th>\n      <td>2014.0</td>\n      <td>7.1</td>\n      <td>1.0</td>\n      <td>192000000.0</td>\n      <td>50000000.0</td>\n      <td>3306.000000</td>\n      <td>2.0</td>\n      <td>2.0</td>\n      <td>583289.0</td>\n      <td>3465.0</td>\n      <td>61.0</td>\n      <td>186.0</td>\n      <td>1.235000e+07</td>\n    </tr>\n    <tr>\n      <th>2</th>\n      <td>2014.0</td>\n      <td>6.2</td>\n      <td>1.0</td>\n      <td>30700000.0</td>\n      <td>28000000.0</td>\n      <td>2872.000000</td>\n      <td>1.0</td>\n      <td>0.0</td>\n      <td>304861.0</td>\n      <td>328.0</td>\n      <td>34.0</td>\n      <td>47.0</td>\n      <td>4.830000e+05</td>\n    </tr>\n    <tr>\n      <th>3</th>\n      <td>2014.0</td>\n      <td>6.3</td>\n      <td>1.0</td>\n      <td>106000000.0</td>\n      <td>110000000.0</td>\n      <td>3470.000000</td>\n      <td>2.0</td>\n      <td>0.0</td>\n      <td>452917.0</td>\n      <td>2429.0</td>\n      <td>132.0</td>\n      <td>590.0</td>\n      <td>5.680000e+05</td>\n    </tr>\n    <tr>\n      <th>4</th>\n      <td>2014.0</td>\n      <td>4.7</td>\n      <td>8.0</td>\n      <td>17300000.0</td>\n      <td>3500000.0</td>\n      <td>2310.000000</td>\n      <td>2.0</td>\n      <td>0.0</td>\n      <td>3145573.0</td>\n      <td>12163.0</td>\n      <td>610.0</td>\n      <td>1082.0</td>\n      <td>1.923800e+06</td>\n    </tr>\n    <tr>\n      <th>...</th>\n      <td>...</td>\n      <td>...</td>\n      <td>...</td>\n      <td>...</td>\n      <td>...</td>\n      <td>...</td>\n      <td>...</td>\n      <td>...</td>\n      <td>...</td>\n      <td>...</td>\n      <td>...</td>\n      <td>...</td>\n      <td>...</td>\n    </tr>\n    <tr>\n      <th>226</th>\n      <td>2015.0</td>\n      <td>6.4</td>\n      <td>4.0</td>\n      <td>1210000.0</td>\n      <td>50000000.0</td>\n      <td>66.000000</td>\n      <td>1.0</td>\n      <td>4.0</td>\n      <td>3701061.0</td>\n      <td>9325.0</td>\n      <td>641.0</td>\n      <td>1859.0</td>\n      <td>3.038193e+06</td>\n    </tr>\n    <tr>\n      <th>227</th>\n      <td>2015.0</td>\n      <td>5.5</td>\n      <td>15.0</td>\n      <td>21000000.0</td>\n      <td>37000000.0</td>\n      <td>2815.000000</td>\n      <td>1.0</td>\n      <td>13.0</td>\n      <td>7119456.0</td>\n      <td>18803.0</td>\n      <td>1128.0</td>\n      <td>2290.0</td>\n      <td>3.038193e+06</td>\n    </tr>\n    <tr>\n      <th>228</th>\n      <td>2015.0</td>\n      <td>5.4</td>\n      <td>8.0</td>\n      <td>10200000.0</td>\n      <td>35000000.0</td>\n      <td>2777.000000</td>\n      <td>1.0</td>\n      <td>7.0</td>\n      <td>3450614.0</td>\n      <td>6823.0</td>\n      <td>325.0</td>\n      <td>409.0</td>\n      <td>3.038193e+06</td>\n    </tr>\n    <tr>\n      <th>229</th>\n      <td>2015.0</td>\n      <td>5.4</td>\n      <td>1.0</td>\n      <td>12300000.0</td>\n      <td>3000000.0</td>\n      <td>2209.244344</td>\n      <td>1.0</td>\n      <td>10.0</td>\n      <td>66872.0</td>\n      <td>400.0</td>\n      <td>67.0</td>\n      <td>201.0</td>\n      <td>3.038193e+06</td>\n    </tr>\n    <tr>\n      <th>230</th>\n      <td>2015.0</td>\n      <td>4.4</td>\n      <td>15.0</td>\n      <td>22600000.0</td>\n      <td>100000.0</td>\n      <td>2720.000000</td>\n      <td>1.0</td>\n      <td>-5.0</td>\n      <td>659772.0</td>\n      <td>2841.0</td>\n      <td>431.0</td>\n      <td>606.0</td>\n      <td>3.038193e+06</td>\n    </tr>\n  </tbody>\n</table>\n<p>231 rows × 13 columns</p>\n</div>"
     },
     "execution_count": 33,
     "metadata": {},
     "output_type": "execute_result"
    }
   ],
   "source": [
    "data = pd.read_csv(\"../data/CSM_snake_case.csv\")\n",
    "data.drop('Movie', axis=1, inplace=True)\n",
    "data"
   ],
   "metadata": {
    "collapsed": false,
    "pycharm": {
     "name": "#%%\n"
    }
   }
  },
  {
   "cell_type": "markdown",
   "source": [
    "Выделим вектор исследуемого признака и матрицу объект-признак"
   ],
   "metadata": {
    "collapsed": false
   }
  },
  {
   "cell_type": "code",
   "execution_count": 34,
   "outputs": [],
   "source": [
    "x_axis = data.drop('Year', 1).values\n",
    "y_axis = data['Year'].values"
   ],
   "metadata": {
    "collapsed": false,
    "pycharm": {
     "name": "#%%\n"
    }
   }
  },
  {
   "cell_type": "markdown",
   "source": [
    "Разобьем выборку на тренировочную и тестовую"
   ],
   "metadata": {
    "collapsed": false
   }
  },
  {
   "cell_type": "code",
   "execution_count": 35,
   "outputs": [],
   "source": [
    "X_train, X_test, y_train, y_test = train_test_split(x_axis, y_axis, test_size=0.2, stratify=y_axis)"
   ],
   "metadata": {
    "collapsed": false,
    "pycharm": {
     "name": "#%%\n"
    }
   }
  },
  {
   "cell_type": "code",
   "execution_count": 36,
   "outputs": [
    {
     "name": "stdout",
     "output_type": "stream",
     "text": [
      "Коэффициент детерминации: 0.15174448197369939\n",
      "MSE: 0.15525959846406168\n",
      "RMSE: 0.39402994615138287\n",
      "MAE: 0.32428440764952327\n"
     ]
    }
   ],
   "source": [
    "lr = LinearRegression().fit(X_train, y_train)\n",
    "print_model_metrics(lr, y_train, lr.predict(X_train))"
   ],
   "metadata": {
    "collapsed": false,
    "pycharm": {
     "name": "#%%\n"
    }
   }
  },
  {
   "cell_type": "markdown",
   "source": [
    "Получили неплохое значение коэффициента детерминации, однако ошибки потенциально могут быть уменьшены"
   ],
   "metadata": {
    "collapsed": false
   }
  },
  {
   "cell_type": "code",
   "execution_count": 37,
   "outputs": [],
   "source": [
    "parameters = {'max_depth': np.arange(1,15,1),\n",
    "              'max_features': np.arange(5,x_axis.shape[1]-1,1)}"
   ],
   "metadata": {
    "collapsed": false,
    "pycharm": {
     "name": "#%%\n"
    }
   }
  },
  {
   "cell_type": "code",
   "execution_count": 38,
   "outputs": [
    {
     "data": {
      "text/plain": "{'max_depth': 2, 'max_features': 9}"
     },
     "execution_count": 38,
     "metadata": {},
     "output_type": "execute_result"
    }
   ],
   "source": [
    "model = GridSearchCV(DecisionTreeRegressor(random_state=0), parameters).fit(X_train, y_train)\n",
    "model.best_params_"
   ],
   "metadata": {
    "collapsed": false,
    "pycharm": {
     "name": "#%%\n"
    }
   }
  },
  {
   "cell_type": "code",
   "execution_count": 39,
   "outputs": [
    {
     "name": "stdout",
     "output_type": "stream",
     "text": [
      "Коэффициент детерминации: 0.1817759043104138\n",
      "MSE: 0.1585439017504235\n",
      "RMSE: 0.3981757171782623\n",
      "MAE: 0.3170878035008041\n"
     ]
    }
   ],
   "source": [
    "print_model_metrics(model, y_train, model.predict(X_train))"
   ],
   "metadata": {
    "collapsed": false,
    "pycharm": {
     "name": "#%%\n"
    }
   }
  },
  {
   "cell_type": "markdown",
   "source": [
    "Значение коэффициента детерминации нормальное."
   ],
   "metadata": {
    "collapsed": false
   }
  },
  {
   "cell_type": "code",
   "execution_count": 40,
   "outputs": [],
   "source": [
    "parameters = {'alpha': np.arange(0.1,2,0.05)}"
   ],
   "metadata": {
    "collapsed": false,
    "pycharm": {
     "name": "#%%\n"
    }
   }
  },
  {
   "cell_type": "code",
   "source": [
    "model = GridSearchCV(Lasso(random_state=0), parameters).fit(X_train, y_train)\n",
    "model.best_params_"
   ],
   "metadata": {
    "collapsed": false,
    "pycharm": {
     "name": "#%%\n"
    }
   },
   "execution_count": 41,
   "outputs": [
    {
     "data": {
      "text/plain": "{'alpha': 0.15000000000000002}"
     },
     "execution_count": 41,
     "metadata": {},
     "output_type": "execute_result"
    }
   ]
  },
  {
   "cell_type": "code",
   "execution_count": 42,
   "outputs": [
    {
     "name": "stdout",
     "output_type": "stream",
     "text": [
      "Коэффициент детерминации: 0.12783875688062551\n",
      "MSE: 0.15802992950135034\n",
      "RMSE: 0.39752978442042597\n",
      "MAE: 0.3310668439086899\n"
     ]
    }
   ],
   "source": [
    "print_model_metrics(model, y_train, model.predict(X_train))"
   ],
   "metadata": {
    "collapsed": false,
    "pycharm": {
     "name": "#%%\n"
    }
   }
  },
  {
   "cell_type": "code",
   "execution_count": 43,
   "outputs": [],
   "source": [
    "lasso_cv = LassoCV(cv=5, random_state=0).fit(X_train, y_train)"
   ],
   "metadata": {
    "collapsed": false,
    "pycharm": {
     "name": "#%%\n"
    }
   }
  },
  {
   "cell_type": "code",
   "execution_count": 44,
   "outputs": [
    {
     "name": "stdout",
     "output_type": "stream",
     "text": [
      "Коэффициент детерминации: 0.054968483321577\n",
      "MSE: 0.19202318044612654\n",
      "RMSE: 0.4382044961500584\n",
      "MAE: 0.3865640232199795\n"
     ]
    }
   ],
   "source": [
    "print_model_metrics(lasso_cv, y_train, lasso_cv.predict(X_train))"
   ],
   "metadata": {
    "collapsed": false,
    "pycharm": {
     "name": "#%%\n"
    }
   }
  },
  {
   "cell_type": "markdown",
   "source": [
    "Обучим и оценим модель Ridge и подберем гиперпараметры"
   ],
   "metadata": {
    "collapsed": false
   }
  },
  {
   "cell_type": "code",
   "execution_count": 45,
   "outputs": [],
   "source": [
    "parameters = {'alpha': np.arange(0.1,2,0.05)}"
   ],
   "metadata": {
    "collapsed": false,
    "pycharm": {
     "name": "#%%\n"
    }
   }
  },
  {
   "cell_type": "code",
   "execution_count": 46,
   "outputs": [
    {
     "data": {
      "text/plain": "{'alpha': 1.9500000000000006}"
     },
     "execution_count": 46,
     "metadata": {},
     "output_type": "execute_result"
    }
   ],
   "source": [
    "model = GridSearchCV(Ridge(random_state=0), parameters).fit(X_train, y_train)\n",
    "model.best_params_"
   ],
   "metadata": {
    "collapsed": false,
    "pycharm": {
     "name": "#%%\n"
    }
   }
  },
  {
   "cell_type": "code",
   "execution_count": 47,
   "outputs": [
    {
     "name": "stdout",
     "output_type": "stream",
     "text": [
      "Коэффициент детерминации: 0.15167593762157328\n",
      "MSE: 0.1552601194050885\n",
      "RMSE: 0.39403060719325916\n",
      "MAE: 0.32434309754907653\n"
     ]
    }
   ],
   "source": [
    "print_model_metrics(model, y_train, model.predict(X_train))"
   ],
   "metadata": {
    "collapsed": false,
    "pycharm": {
     "name": "#%%\n"
    }
   }
  },
  {
   "cell_type": "code",
   "execution_count": 48,
   "outputs": [],
   "source": [
    "ridge_cv = RidgeCV(cv=5).fit(X_train, y_train)"
   ],
   "metadata": {
    "collapsed": false,
    "pycharm": {
     "name": "#%%\n"
    }
   }
  },
  {
   "cell_type": "code",
   "execution_count": 49,
   "outputs": [
    {
     "name": "stdout",
     "output_type": "stream",
     "text": [
      "Коэффициент детерминации: 0.15136790344277407\n",
      "MSE: 0.15527168103477343\n",
      "RMSE: 0.3940452778993468\n",
      "MAE: 0.3245678000386523\n"
     ]
    }
   ],
   "source": [
    "print_model_metrics(ridge_cv, y_train,ridge_cv.predict(X_train))"
   ],
   "metadata": {
    "collapsed": false,
    "pycharm": {
     "name": "#%%\n"
    }
   }
  },
  {
   "cell_type": "markdown",
   "source": [
    "Обучим и оценим модель ElasticNet и подберем гиперпараметры"
   ],
   "metadata": {
    "collapsed": false
   }
  },
  {
   "cell_type": "code",
   "execution_count": 50,
   "outputs": [],
   "source": [
    "parameters = {'alpha': np.arange(0.1,2,0.05), 'l1_ratio': np.arange(0.1, 1.1, 0.1)}"
   ],
   "metadata": {
    "collapsed": false,
    "pycharm": {
     "name": "#%%\n"
    }
   }
  },
  {
   "cell_type": "code",
   "execution_count": 51,
   "outputs": [
    {
     "data": {
      "text/plain": "{'alpha': 0.20000000000000004, 'l1_ratio': 0.8}"
     },
     "execution_count": 51,
     "metadata": {},
     "output_type": "execute_result"
    }
   ],
   "source": [
    "model = GridSearchCV(ElasticNet(random_state=0), parameters).fit(X_train, y_train)\n",
    "model.best_params_"
   ],
   "metadata": {
    "collapsed": false,
    "pycharm": {
     "name": "#%%\n"
    }
   }
  },
  {
   "cell_type": "code",
   "execution_count": 52,
   "outputs": [
    {
     "name": "stdout",
     "output_type": "stream",
     "text": [
      "Коэффициент детерминации: 0.1268789375696776\n",
      "MSE: 0.15811598380102296\n",
      "RMSE: 0.3976380059816\n",
      "MAE: 0.3312579940627999\n"
     ]
    }
   ],
   "source": [
    "print_model_metrics(model, y_train, model.predict(X_train))"
   ],
   "metadata": {
    "collapsed": false,
    "pycharm": {
     "name": "#%%\n"
    }
   }
  },
  {
   "cell_type": "code",
   "execution_count": 53,
   "outputs": [],
   "source": [
    "elastic_net_cv = ElasticNetCV(cv=5, random_state=0).fit(X_train, y_train)"
   ],
   "metadata": {
    "collapsed": false,
    "pycharm": {
     "name": "#%%\n"
    }
   }
  },
  {
   "cell_type": "code",
   "execution_count": 54,
   "outputs": [
    {
     "name": "stdout",
     "output_type": "stream",
     "text": [
      "Коэффициент детерминации: 0.05496848335311466\n",
      "MSE: 0.1920231804490936\n",
      "RMSE: 0.43820449615344387\n",
      "MAE: 0.3865640232468232\n"
     ]
    }
   ],
   "source": [
    "print_model_metrics(elastic_net_cv, y_train,elastic_net_cv.predict(X_train))"
   ],
   "metadata": {
    "collapsed": false,
    "pycharm": {
     "name": "#%%\n"
    }
   }
  },
  {
   "cell_type": "markdown",
   "source": [
    "### Вывод"
   ],
   "metadata": {
    "collapsed": false,
    "pycharm": {
     "name": "#%% md\n"
    }
   }
  },
  {
   "cell_type": "markdown",
   "source": [
    "В исходных данных не наблюдаются точные линейные зависимости между целевым\n",
    "и другими признаками, вследствие чего линейные модели уступают в качестве\n",
    "прогнозирования нелинейным (в частности, дереву решений)"
   ],
   "metadata": {
    "collapsed": false,
    "pycharm": {
     "name": "#%% md\n"
    }
   }
  }
 ],
 "metadata": {
  "kernelspec": {
   "name": "python3",
   "language": "python",
   "display_name": "Python 3"
  },
  "language_info": {
   "codemirror_mode": {
    "name": "ipython",
    "version": 2
   },
   "file_extension": ".py",
   "mimetype": "text/x-python",
   "name": "python",
   "nbconvert_exporter": "python",
   "pygments_lexer": "ipython2",
   "version": "2.7.6"
  }
 },
 "nbformat": 4,
 "nbformat_minor": 0
}