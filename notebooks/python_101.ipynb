{
 "cells": [
  {
   "cell_type": "markdown",
   "source": [
    "# First Homework\n",
    "### Задание\n",
    "Дано два листа. Написать функцию возвращающую уникальные элементы, которые встречаются и в первом, и во втором листе.\n",
    "На входе: первый и второй лист. На выходе: лист элементов.\n",
    "Решение оформить в виде функции и вызывающего её кода.\n",
    "### Решение"
   ],
   "metadata": {
    "collapsed": false
   }
  },
  {
   "cell_type": "code",
   "execution_count": 1,
   "outputs": [],
   "source": [
    "def unique_values(list1: list, list2: list) -> list:\n",
    "    answer = []\n",
    "    for val in min(list1, list2):\n",
    "        if val in max(list2, list1):\n",
    "            answer.append(val)\n",
    "    return answer"
   ],
   "metadata": {
    "collapsed": false,
    "pycharm": {
     "name": "#%%\n"
    }
   }
  },
  {
   "cell_type": "markdown",
   "source": [
    "### Проверка"
   ],
   "metadata": {
    "collapsed": false,
    "pycharm": {
     "name": "#%% md\n"
    }
   }
  },
  {
   "cell_type": "code",
   "source": [
    "unique_values([1,2,3,4,5,\"aaa\"], [1,3,5,\"aaa\", \"bbb\", 1])"
   ],
   "metadata": {
    "collapsed": false,
    "pycharm": {
     "name": "#%%\n"
    }
   },
   "execution_count": 2,
   "outputs": [
    {
     "data": {
      "text/plain": "[1, 3, 5, 'aaa']"
     },
     "execution_count": 2,
     "metadata": {},
     "output_type": "execute_result"
    }
   ]
  }
 ],
 "metadata": {
  "kernelspec": {
   "display_name": "Python 3",
   "language": "python",
   "name": "python3"
  },
  "language_info": {
   "codemirror_mode": {
    "name": "ipython",
    "version": 2
   },
   "file_extension": ".py",
   "mimetype": "text/x-python",
   "name": "python",
   "nbconvert_exporter": "python",
   "pygments_lexer": "ipython2",
   "version": "2.7.6"
  }
 },
 "nbformat": 4,
 "nbformat_minor": 0
}