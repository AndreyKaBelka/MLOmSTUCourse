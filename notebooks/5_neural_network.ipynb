{
 "cells": [
  {
   "cell_type": "code",
   "execution_count": 17,
   "metadata": {
    "collapsed": true
   },
   "outputs": [],
   "source": [
    "import pandas as pd\n",
    "from sklearn import datasets\n",
    "from sklearn.metrics import classification_report, confusion_matrix\n",
    "from sklearn.model_selection import train_test_split\n",
    "from sklearn.preprocessing import StandardScaler\n",
    "from algorythms import mlp\n",
    "import numpy as np"
   ]
  },
  {
   "cell_type": "markdown",
   "source": [
    "# Датасет \"Фильмы\""
   ],
   "metadata": {
    "collapsed": false
   }
  },
  {
   "cell_type": "markdown",
   "source": [
    "## Загрузка датасета"
   ],
   "metadata": {
    "collapsed": false
   }
  },
  {
   "cell_type": "code",
   "execution_count": 18,
   "outputs": [],
   "source": [
    "data = pd.read_csv('../data/CSM_snake_case.csv', sep = ',')"
   ],
   "metadata": {
    "collapsed": false,
    "pycharm": {
     "name": "#%%\n"
    }
   }
  },
  {
   "cell_type": "code",
   "execution_count": 19,
   "outputs": [
    {
     "data": {
      "text/plain": "                      Movie    Year  Ratings  Genre        Gross       Budget  \\\n0                   13 Sins  2014.0      6.3    8.0       9130.0    4000000.0   \n1            22 Jump Street  2014.0      7.1    1.0  192000000.0   50000000.0   \n2            3 Days to Kill  2014.0      6.2    1.0   30700000.0   28000000.0   \n3    300: Rise of an Empire  2014.0      6.3    1.0  106000000.0  110000000.0   \n4         A Haunted House 2  2014.0      4.7    8.0   17300000.0    3500000.0   \n..                      ...     ...      ...    ...          ...          ...   \n226                Child 44  2015.0      6.4    4.0    1210000.0   50000000.0   \n227                   Aloha  2015.0      5.5   15.0   21000000.0   37000000.0   \n228     Unfinished Business  2015.0      5.4    8.0   10200000.0   35000000.0   \n229                War Room  2015.0      5.4    1.0   12300000.0    3000000.0   \n230             The Gallows  2015.0      4.4   15.0   22600000.0     100000.0   \n\n         Screens  Sequel  Sentiment      Views    Likes  Dislikes  Comments  \\\n0      45.000000     1.0        0.0  3280543.0   4632.0     425.0     636.0   \n1    3306.000000     2.0        2.0   583289.0   3465.0      61.0     186.0   \n2    2872.000000     1.0        0.0   304861.0    328.0      34.0      47.0   \n3    3470.000000     2.0        0.0   452917.0   2429.0     132.0     590.0   \n4    2310.000000     2.0        0.0  3145573.0  12163.0     610.0    1082.0   \n..           ...     ...        ...        ...      ...       ...       ...   \n226    66.000000     1.0        4.0  3701061.0   9325.0     641.0    1859.0   \n227  2815.000000     1.0       13.0  7119456.0  18803.0    1128.0    2290.0   \n228  2777.000000     1.0        7.0  3450614.0   6823.0     325.0     409.0   \n229  2209.244344     1.0       10.0    66872.0    400.0      67.0     201.0   \n230  2720.000000     1.0       -5.0   659772.0   2841.0     431.0     606.0   \n\n     Aggregate Followers  \n0           1.120000e+06  \n1           1.235000e+07  \n2           4.830000e+05  \n3           5.680000e+05  \n4           1.923800e+06  \n..                   ...  \n226         3.038193e+06  \n227         3.038193e+06  \n228         3.038193e+06  \n229         3.038193e+06  \n230         3.038193e+06  \n\n[231 rows x 14 columns]",
      "text/html": "<div>\n<style scoped>\n    .dataframe tbody tr th:only-of-type {\n        vertical-align: middle;\n    }\n\n    .dataframe tbody tr th {\n        vertical-align: top;\n    }\n\n    .dataframe thead th {\n        text-align: right;\n    }\n</style>\n<table border=\"1\" class=\"dataframe\">\n  <thead>\n    <tr style=\"text-align: right;\">\n      <th></th>\n      <th>Movie</th>\n      <th>Year</th>\n      <th>Ratings</th>\n      <th>Genre</th>\n      <th>Gross</th>\n      <th>Budget</th>\n      <th>Screens</th>\n      <th>Sequel</th>\n      <th>Sentiment</th>\n      <th>Views</th>\n      <th>Likes</th>\n      <th>Dislikes</th>\n      <th>Comments</th>\n      <th>Aggregate Followers</th>\n    </tr>\n  </thead>\n  <tbody>\n    <tr>\n      <th>0</th>\n      <td>13 Sins</td>\n      <td>2014.0</td>\n      <td>6.3</td>\n      <td>8.0</td>\n      <td>9130.0</td>\n      <td>4000000.0</td>\n      <td>45.000000</td>\n      <td>1.0</td>\n      <td>0.0</td>\n      <td>3280543.0</td>\n      <td>4632.0</td>\n      <td>425.0</td>\n      <td>636.0</td>\n      <td>1.120000e+06</td>\n    </tr>\n    <tr>\n      <th>1</th>\n      <td>22 Jump Street</td>\n      <td>2014.0</td>\n      <td>7.1</td>\n      <td>1.0</td>\n      <td>192000000.0</td>\n      <td>50000000.0</td>\n      <td>3306.000000</td>\n      <td>2.0</td>\n      <td>2.0</td>\n      <td>583289.0</td>\n      <td>3465.0</td>\n      <td>61.0</td>\n      <td>186.0</td>\n      <td>1.235000e+07</td>\n    </tr>\n    <tr>\n      <th>2</th>\n      <td>3 Days to Kill</td>\n      <td>2014.0</td>\n      <td>6.2</td>\n      <td>1.0</td>\n      <td>30700000.0</td>\n      <td>28000000.0</td>\n      <td>2872.000000</td>\n      <td>1.0</td>\n      <td>0.0</td>\n      <td>304861.0</td>\n      <td>328.0</td>\n      <td>34.0</td>\n      <td>47.0</td>\n      <td>4.830000e+05</td>\n    </tr>\n    <tr>\n      <th>3</th>\n      <td>300: Rise of an Empire</td>\n      <td>2014.0</td>\n      <td>6.3</td>\n      <td>1.0</td>\n      <td>106000000.0</td>\n      <td>110000000.0</td>\n      <td>3470.000000</td>\n      <td>2.0</td>\n      <td>0.0</td>\n      <td>452917.0</td>\n      <td>2429.0</td>\n      <td>132.0</td>\n      <td>590.0</td>\n      <td>5.680000e+05</td>\n    </tr>\n    <tr>\n      <th>4</th>\n      <td>A Haunted House 2</td>\n      <td>2014.0</td>\n      <td>4.7</td>\n      <td>8.0</td>\n      <td>17300000.0</td>\n      <td>3500000.0</td>\n      <td>2310.000000</td>\n      <td>2.0</td>\n      <td>0.0</td>\n      <td>3145573.0</td>\n      <td>12163.0</td>\n      <td>610.0</td>\n      <td>1082.0</td>\n      <td>1.923800e+06</td>\n    </tr>\n    <tr>\n      <th>...</th>\n      <td>...</td>\n      <td>...</td>\n      <td>...</td>\n      <td>...</td>\n      <td>...</td>\n      <td>...</td>\n      <td>...</td>\n      <td>...</td>\n      <td>...</td>\n      <td>...</td>\n      <td>...</td>\n      <td>...</td>\n      <td>...</td>\n      <td>...</td>\n    </tr>\n    <tr>\n      <th>226</th>\n      <td>Child 44</td>\n      <td>2015.0</td>\n      <td>6.4</td>\n      <td>4.0</td>\n      <td>1210000.0</td>\n      <td>50000000.0</td>\n      <td>66.000000</td>\n      <td>1.0</td>\n      <td>4.0</td>\n      <td>3701061.0</td>\n      <td>9325.0</td>\n      <td>641.0</td>\n      <td>1859.0</td>\n      <td>3.038193e+06</td>\n    </tr>\n    <tr>\n      <th>227</th>\n      <td>Aloha</td>\n      <td>2015.0</td>\n      <td>5.5</td>\n      <td>15.0</td>\n      <td>21000000.0</td>\n      <td>37000000.0</td>\n      <td>2815.000000</td>\n      <td>1.0</td>\n      <td>13.0</td>\n      <td>7119456.0</td>\n      <td>18803.0</td>\n      <td>1128.0</td>\n      <td>2290.0</td>\n      <td>3.038193e+06</td>\n    </tr>\n    <tr>\n      <th>228</th>\n      <td>Unfinished Business</td>\n      <td>2015.0</td>\n      <td>5.4</td>\n      <td>8.0</td>\n      <td>10200000.0</td>\n      <td>35000000.0</td>\n      <td>2777.000000</td>\n      <td>1.0</td>\n      <td>7.0</td>\n      <td>3450614.0</td>\n      <td>6823.0</td>\n      <td>325.0</td>\n      <td>409.0</td>\n      <td>3.038193e+06</td>\n    </tr>\n    <tr>\n      <th>229</th>\n      <td>War Room</td>\n      <td>2015.0</td>\n      <td>5.4</td>\n      <td>1.0</td>\n      <td>12300000.0</td>\n      <td>3000000.0</td>\n      <td>2209.244344</td>\n      <td>1.0</td>\n      <td>10.0</td>\n      <td>66872.0</td>\n      <td>400.0</td>\n      <td>67.0</td>\n      <td>201.0</td>\n      <td>3.038193e+06</td>\n    </tr>\n    <tr>\n      <th>230</th>\n      <td>The Gallows</td>\n      <td>2015.0</td>\n      <td>4.4</td>\n      <td>15.0</td>\n      <td>22600000.0</td>\n      <td>100000.0</td>\n      <td>2720.000000</td>\n      <td>1.0</td>\n      <td>-5.0</td>\n      <td>659772.0</td>\n      <td>2841.0</td>\n      <td>431.0</td>\n      <td>606.0</td>\n      <td>3.038193e+06</td>\n    </tr>\n  </tbody>\n</table>\n<p>231 rows × 14 columns</p>\n</div>"
     },
     "execution_count": 19,
     "metadata": {},
     "output_type": "execute_result"
    }
   ],
   "source": [
    "data"
   ],
   "metadata": {
    "collapsed": false,
    "pycharm": {
     "name": "#%%\n"
    }
   }
  },
  {
   "cell_type": "markdown",
   "source": [
    "## Подготовка датасета"
   ],
   "metadata": {
    "collapsed": false
   }
  },
  {
   "cell_type": "code",
   "execution_count": 20,
   "outputs": [
    {
     "data": {
      "text/plain": "       Year  Ratings  Genre        Gross       Budget      Screens  Sequel  \\\n0    2014.0      6.3    8.0       9130.0    4000000.0    45.000000     1.0   \n1    2014.0      7.1    1.0  192000000.0   50000000.0  3306.000000     2.0   \n2    2014.0      6.2    1.0   30700000.0   28000000.0  2872.000000     1.0   \n3    2014.0      6.3    1.0  106000000.0  110000000.0  3470.000000     2.0   \n4    2014.0      4.7    8.0   17300000.0    3500000.0  2310.000000     2.0   \n..      ...      ...    ...          ...          ...          ...     ...   \n226  2015.0      6.4    4.0    1210000.0   50000000.0    66.000000     1.0   \n227  2015.0      5.5   15.0   21000000.0   37000000.0  2815.000000     1.0   \n228  2015.0      5.4    8.0   10200000.0   35000000.0  2777.000000     1.0   \n229  2015.0      5.4    1.0   12300000.0    3000000.0  2209.244344     1.0   \n230  2015.0      4.4   15.0   22600000.0     100000.0  2720.000000     1.0   \n\n     Sentiment      Views    Likes  Dislikes  Comments  Aggregate Followers  \n0          0.0  3280543.0   4632.0     425.0     636.0         1.120000e+06  \n1          2.0   583289.0   3465.0      61.0     186.0         1.235000e+07  \n2          0.0   304861.0    328.0      34.0      47.0         4.830000e+05  \n3          0.0   452917.0   2429.0     132.0     590.0         5.680000e+05  \n4          0.0  3145573.0  12163.0     610.0    1082.0         1.923800e+06  \n..         ...        ...      ...       ...       ...                  ...  \n226        4.0  3701061.0   9325.0     641.0    1859.0         3.038193e+06  \n227       13.0  7119456.0  18803.0    1128.0    2290.0         3.038193e+06  \n228        7.0  3450614.0   6823.0     325.0     409.0         3.038193e+06  \n229       10.0    66872.0    400.0      67.0     201.0         3.038193e+06  \n230       -5.0   659772.0   2841.0     431.0     606.0         3.038193e+06  \n\n[231 rows x 13 columns]",
      "text/html": "<div>\n<style scoped>\n    .dataframe tbody tr th:only-of-type {\n        vertical-align: middle;\n    }\n\n    .dataframe tbody tr th {\n        vertical-align: top;\n    }\n\n    .dataframe thead th {\n        text-align: right;\n    }\n</style>\n<table border=\"1\" class=\"dataframe\">\n  <thead>\n    <tr style=\"text-align: right;\">\n      <th></th>\n      <th>Year</th>\n      <th>Ratings</th>\n      <th>Genre</th>\n      <th>Gross</th>\n      <th>Budget</th>\n      <th>Screens</th>\n      <th>Sequel</th>\n      <th>Sentiment</th>\n      <th>Views</th>\n      <th>Likes</th>\n      <th>Dislikes</th>\n      <th>Comments</th>\n      <th>Aggregate Followers</th>\n    </tr>\n  </thead>\n  <tbody>\n    <tr>\n      <th>0</th>\n      <td>2014.0</td>\n      <td>6.3</td>\n      <td>8.0</td>\n      <td>9130.0</td>\n      <td>4000000.0</td>\n      <td>45.000000</td>\n      <td>1.0</td>\n      <td>0.0</td>\n      <td>3280543.0</td>\n      <td>4632.0</td>\n      <td>425.0</td>\n      <td>636.0</td>\n      <td>1.120000e+06</td>\n    </tr>\n    <tr>\n      <th>1</th>\n      <td>2014.0</td>\n      <td>7.1</td>\n      <td>1.0</td>\n      <td>192000000.0</td>\n      <td>50000000.0</td>\n      <td>3306.000000</td>\n      <td>2.0</td>\n      <td>2.0</td>\n      <td>583289.0</td>\n      <td>3465.0</td>\n      <td>61.0</td>\n      <td>186.0</td>\n      <td>1.235000e+07</td>\n    </tr>\n    <tr>\n      <th>2</th>\n      <td>2014.0</td>\n      <td>6.2</td>\n      <td>1.0</td>\n      <td>30700000.0</td>\n      <td>28000000.0</td>\n      <td>2872.000000</td>\n      <td>1.0</td>\n      <td>0.0</td>\n      <td>304861.0</td>\n      <td>328.0</td>\n      <td>34.0</td>\n      <td>47.0</td>\n      <td>4.830000e+05</td>\n    </tr>\n    <tr>\n      <th>3</th>\n      <td>2014.0</td>\n      <td>6.3</td>\n      <td>1.0</td>\n      <td>106000000.0</td>\n      <td>110000000.0</td>\n      <td>3470.000000</td>\n      <td>2.0</td>\n      <td>0.0</td>\n      <td>452917.0</td>\n      <td>2429.0</td>\n      <td>132.0</td>\n      <td>590.0</td>\n      <td>5.680000e+05</td>\n    </tr>\n    <tr>\n      <th>4</th>\n      <td>2014.0</td>\n      <td>4.7</td>\n      <td>8.0</td>\n      <td>17300000.0</td>\n      <td>3500000.0</td>\n      <td>2310.000000</td>\n      <td>2.0</td>\n      <td>0.0</td>\n      <td>3145573.0</td>\n      <td>12163.0</td>\n      <td>610.0</td>\n      <td>1082.0</td>\n      <td>1.923800e+06</td>\n    </tr>\n    <tr>\n      <th>...</th>\n      <td>...</td>\n      <td>...</td>\n      <td>...</td>\n      <td>...</td>\n      <td>...</td>\n      <td>...</td>\n      <td>...</td>\n      <td>...</td>\n      <td>...</td>\n      <td>...</td>\n      <td>...</td>\n      <td>...</td>\n      <td>...</td>\n    </tr>\n    <tr>\n      <th>226</th>\n      <td>2015.0</td>\n      <td>6.4</td>\n      <td>4.0</td>\n      <td>1210000.0</td>\n      <td>50000000.0</td>\n      <td>66.000000</td>\n      <td>1.0</td>\n      <td>4.0</td>\n      <td>3701061.0</td>\n      <td>9325.0</td>\n      <td>641.0</td>\n      <td>1859.0</td>\n      <td>3.038193e+06</td>\n    </tr>\n    <tr>\n      <th>227</th>\n      <td>2015.0</td>\n      <td>5.5</td>\n      <td>15.0</td>\n      <td>21000000.0</td>\n      <td>37000000.0</td>\n      <td>2815.000000</td>\n      <td>1.0</td>\n      <td>13.0</td>\n      <td>7119456.0</td>\n      <td>18803.0</td>\n      <td>1128.0</td>\n      <td>2290.0</td>\n      <td>3.038193e+06</td>\n    </tr>\n    <tr>\n      <th>228</th>\n      <td>2015.0</td>\n      <td>5.4</td>\n      <td>8.0</td>\n      <td>10200000.0</td>\n      <td>35000000.0</td>\n      <td>2777.000000</td>\n      <td>1.0</td>\n      <td>7.0</td>\n      <td>3450614.0</td>\n      <td>6823.0</td>\n      <td>325.0</td>\n      <td>409.0</td>\n      <td>3.038193e+06</td>\n    </tr>\n    <tr>\n      <th>229</th>\n      <td>2015.0</td>\n      <td>5.4</td>\n      <td>1.0</td>\n      <td>12300000.0</td>\n      <td>3000000.0</td>\n      <td>2209.244344</td>\n      <td>1.0</td>\n      <td>10.0</td>\n      <td>66872.0</td>\n      <td>400.0</td>\n      <td>67.0</td>\n      <td>201.0</td>\n      <td>3.038193e+06</td>\n    </tr>\n    <tr>\n      <th>230</th>\n      <td>2015.0</td>\n      <td>4.4</td>\n      <td>15.0</td>\n      <td>22600000.0</td>\n      <td>100000.0</td>\n      <td>2720.000000</td>\n      <td>1.0</td>\n      <td>-5.0</td>\n      <td>659772.0</td>\n      <td>2841.0</td>\n      <td>431.0</td>\n      <td>606.0</td>\n      <td>3.038193e+06</td>\n    </tr>\n  </tbody>\n</table>\n<p>231 rows × 13 columns</p>\n</div>"
     },
     "execution_count": 20,
     "metadata": {},
     "output_type": "execute_result"
    }
   ],
   "source": [
    "data.drop('Movie', axis=1, inplace=True)\n",
    "data"
   ],
   "metadata": {
    "collapsed": false,
    "pycharm": {
     "name": "#%%\n"
    }
   }
  },
  {
   "cell_type": "code",
   "execution_count": 21,
   "outputs": [],
   "source": [
    "y = data['Year'].values\n",
    "X = data.drop('Year', axis=1).values\n",
    "X_train, X_test, y_train, y_test = train_test_split(X, y, test_size=0.2, stratify=y)"
   ],
   "metadata": {
    "collapsed": false,
    "pycharm": {
     "name": "#%%\n"
    }
   }
  },
  {
   "cell_type": "markdown",
   "source": [
    "## Классификация с помощью модели MLP"
   ],
   "metadata": {
    "collapsed": false
   }
  },
  {
   "cell_type": "code",
   "execution_count": 22,
   "outputs": [
    {
     "name": "stdout",
     "output_type": "stream",
     "text": [
      "object\n"
     ]
    },
    {
     "name": "stderr",
     "output_type": "stream",
     "text": [
      "E:\\ML\\MLOmSTUCourse\\algorythms\\mlp.py:9: RuntimeWarning: overflow encountered in exp\n",
      "  return 1.0 / (1.0 + np.exp(-x))\n"
     ]
    }
   ],
   "source": [
    "model = mlp.MLP(inputs_count=X_train.shape[1], hidden_layers_counts_with_act_funcs=[(15, mlp.ActivationFunctions.sigmoid, mlp.ActivationFunctions.sigmoid_derivative), (15, mlp.ActivationFunctions.sigmoid, mlp.ActivationFunctions.sigmoid_derivative)]).fit(X_train, y_train, epochs=600, learning_rate=0.25)"
   ],
   "metadata": {
    "collapsed": false,
    "pycharm": {
     "name": "#%%\n"
    }
   }
  },
  {
   "cell_type": "code",
   "execution_count": 23,
   "outputs": [],
   "source": [
    "y_pred = []\n",
    "for i in range(len(X_test)):\n",
    "    prediction = model.predict(X_test[i])[0]\n",
    "    if prediction > 0.5:\n",
    "        y_pred.append(1)\n",
    "    else:\n",
    "        y_pred.append(0)"
   ],
   "metadata": {
    "collapsed": false,
    "pycharm": {
     "name": "#%%\n"
    }
   }
  },
  {
   "cell_type": "code",
   "execution_count": 24,
   "outputs": [
    {
     "name": "stdout",
     "output_type": "stream",
     "text": [
      "[[ 0  0  0]\n",
      " [33  0  0]\n",
      " [14  0  0]]\n",
      "              precision    recall  f1-score   support\n",
      "\n",
      "         1.0       0.00      0.00      0.00       0.0\n",
      "      2014.0       0.00      0.00      0.00      33.0\n",
      "      2015.0       0.00      0.00      0.00      14.0\n",
      "\n",
      "    accuracy                           0.00      47.0\n",
      "   macro avg       0.00      0.00      0.00      47.0\n",
      "weighted avg       0.00      0.00      0.00      47.0\n",
      "\n"
     ]
    },
    {
     "name": "stderr",
     "output_type": "stream",
     "text": [
      "c:\\users\\dream\\appdata\\local\\programs\\python\\python39\\lib\\site-packages\\sklearn\\metrics\\_classification.py:1245: UndefinedMetricWarning: Precision and F-score are ill-defined and being set to 0.0 in labels with no predicted samples. Use `zero_division` parameter to control this behavior.\n",
      "  _warn_prf(average, modifier, msg_start, len(result))\n",
      "c:\\users\\dream\\appdata\\local\\programs\\python\\python39\\lib\\site-packages\\sklearn\\metrics\\_classification.py:1245: UndefinedMetricWarning: Recall and F-score are ill-defined and being set to 0.0 in labels with no true samples. Use `zero_division` parameter to control this behavior.\n",
      "  _warn_prf(average, modifier, msg_start, len(result))\n",
      "c:\\users\\dream\\appdata\\local\\programs\\python\\python39\\lib\\site-packages\\sklearn\\metrics\\_classification.py:1245: UndefinedMetricWarning: Precision and F-score are ill-defined and being set to 0.0 in labels with no predicted samples. Use `zero_division` parameter to control this behavior.\n",
      "  _warn_prf(average, modifier, msg_start, len(result))\n",
      "c:\\users\\dream\\appdata\\local\\programs\\python\\python39\\lib\\site-packages\\sklearn\\metrics\\_classification.py:1245: UndefinedMetricWarning: Recall and F-score are ill-defined and being set to 0.0 in labels with no true samples. Use `zero_division` parameter to control this behavior.\n",
      "  _warn_prf(average, modifier, msg_start, len(result))\n",
      "c:\\users\\dream\\appdata\\local\\programs\\python\\python39\\lib\\site-packages\\sklearn\\metrics\\_classification.py:1245: UndefinedMetricWarning: Precision and F-score are ill-defined and being set to 0.0 in labels with no predicted samples. Use `zero_division` parameter to control this behavior.\n",
      "  _warn_prf(average, modifier, msg_start, len(result))\n",
      "c:\\users\\dream\\appdata\\local\\programs\\python\\python39\\lib\\site-packages\\sklearn\\metrics\\_classification.py:1245: UndefinedMetricWarning: Recall and F-score are ill-defined and being set to 0.0 in labels with no true samples. Use `zero_division` parameter to control this behavior.\n",
      "  _warn_prf(average, modifier, msg_start, len(result))\n"
     ]
    }
   ],
   "source": [
    "print(confusion_matrix(y_test, y_pred))\n",
    "print(classification_report(y_test, y_pred))"
   ],
   "metadata": {
    "collapsed": false,
    "pycharm": {
     "name": "#%%\n"
    }
   }
  },
  {
   "cell_type": "markdown",
   "source": [
    "# Датасет \"IRIS\""
   ],
   "metadata": {
    "collapsed": false,
    "pycharm": {
     "name": "#%% md\n"
    }
   }
  },
  {
   "cell_type": "markdown",
   "source": [
    "## Загрузка датасета"
   ],
   "metadata": {
    "collapsed": false
   }
  },
  {
   "cell_type": "code",
   "execution_count": 25,
   "outputs": [],
   "source": [
    "iris = datasets.load_iris()"
   ],
   "metadata": {
    "collapsed": false,
    "pycharm": {
     "name": "#%%\n"
    }
   }
  },
  {
   "cell_type": "markdown",
   "source": [
    "## Подготовка датасета"
   ],
   "metadata": {
    "collapsed": false
   }
  },
  {
   "cell_type": "code",
   "execution_count": 26,
   "outputs": [
    {
     "data": {
      "text/plain": "array([[5.1, 3.5, 1.4, 0.2],\n       [4.9, 3. , 1.4, 0.2],\n       [4.7, 3.2, 1.3, 0.2],\n       [4.6, 3.1, 1.5, 0.2],\n       [5. , 3.6, 1.4, 0.2],\n       [5.4, 3.9, 1.7, 0.4],\n       [4.6, 3.4, 1.4, 0.3],\n       [5. , 3.4, 1.5, 0.2],\n       [4.4, 2.9, 1.4, 0.2],\n       [4.9, 3.1, 1.5, 0.1],\n       [5.4, 3.7, 1.5, 0.2],\n       [4.8, 3.4, 1.6, 0.2],\n       [4.8, 3. , 1.4, 0.1],\n       [4.3, 3. , 1.1, 0.1],\n       [5.8, 4. , 1.2, 0.2],\n       [5.7, 4.4, 1.5, 0.4],\n       [5.4, 3.9, 1.3, 0.4],\n       [5.1, 3.5, 1.4, 0.3],\n       [5.7, 3.8, 1.7, 0.3],\n       [5.1, 3.8, 1.5, 0.3],\n       [5.4, 3.4, 1.7, 0.2],\n       [5.1, 3.7, 1.5, 0.4],\n       [4.6, 3.6, 1. , 0.2],\n       [5.1, 3.3, 1.7, 0.5],\n       [4.8, 3.4, 1.9, 0.2],\n       [5. , 3. , 1.6, 0.2],\n       [5. , 3.4, 1.6, 0.4],\n       [5.2, 3.5, 1.5, 0.2],\n       [5.2, 3.4, 1.4, 0.2],\n       [4.7, 3.2, 1.6, 0.2],\n       [4.8, 3.1, 1.6, 0.2],\n       [5.4, 3.4, 1.5, 0.4],\n       [5.2, 4.1, 1.5, 0.1],\n       [5.5, 4.2, 1.4, 0.2],\n       [4.9, 3.1, 1.5, 0.2],\n       [5. , 3.2, 1.2, 0.2],\n       [5.5, 3.5, 1.3, 0.2],\n       [4.9, 3.6, 1.4, 0.1],\n       [4.4, 3. , 1.3, 0.2],\n       [5.1, 3.4, 1.5, 0.2],\n       [5. , 3.5, 1.3, 0.3],\n       [4.5, 2.3, 1.3, 0.3],\n       [4.4, 3.2, 1.3, 0.2],\n       [5. , 3.5, 1.6, 0.6],\n       [5.1, 3.8, 1.9, 0.4],\n       [4.8, 3. , 1.4, 0.3],\n       [5.1, 3.8, 1.6, 0.2],\n       [4.6, 3.2, 1.4, 0.2],\n       [5.3, 3.7, 1.5, 0.2],\n       [5. , 3.3, 1.4, 0.2],\n       [7. , 3.2, 4.7, 1.4],\n       [6.4, 3.2, 4.5, 1.5],\n       [6.9, 3.1, 4.9, 1.5],\n       [5.5, 2.3, 4. , 1.3],\n       [6.5, 2.8, 4.6, 1.5],\n       [5.7, 2.8, 4.5, 1.3],\n       [6.3, 3.3, 4.7, 1.6],\n       [4.9, 2.4, 3.3, 1. ],\n       [6.6, 2.9, 4.6, 1.3],\n       [5.2, 2.7, 3.9, 1.4],\n       [5. , 2. , 3.5, 1. ],\n       [5.9, 3. , 4.2, 1.5],\n       [6. , 2.2, 4. , 1. ],\n       [6.1, 2.9, 4.7, 1.4],\n       [5.6, 2.9, 3.6, 1.3],\n       [6.7, 3.1, 4.4, 1.4],\n       [5.6, 3. , 4.5, 1.5],\n       [5.8, 2.7, 4.1, 1. ],\n       [6.2, 2.2, 4.5, 1.5],\n       [5.6, 2.5, 3.9, 1.1],\n       [5.9, 3.2, 4.8, 1.8],\n       [6.1, 2.8, 4. , 1.3],\n       [6.3, 2.5, 4.9, 1.5],\n       [6.1, 2.8, 4.7, 1.2],\n       [6.4, 2.9, 4.3, 1.3],\n       [6.6, 3. , 4.4, 1.4],\n       [6.8, 2.8, 4.8, 1.4],\n       [6.7, 3. , 5. , 1.7],\n       [6. , 2.9, 4.5, 1.5],\n       [5.7, 2.6, 3.5, 1. ],\n       [5.5, 2.4, 3.8, 1.1],\n       [5.5, 2.4, 3.7, 1. ],\n       [5.8, 2.7, 3.9, 1.2],\n       [6. , 2.7, 5.1, 1.6],\n       [5.4, 3. , 4.5, 1.5],\n       [6. , 3.4, 4.5, 1.6],\n       [6.7, 3.1, 4.7, 1.5],\n       [6.3, 2.3, 4.4, 1.3],\n       [5.6, 3. , 4.1, 1.3],\n       [5.5, 2.5, 4. , 1.3],\n       [5.5, 2.6, 4.4, 1.2],\n       [6.1, 3. , 4.6, 1.4],\n       [5.8, 2.6, 4. , 1.2],\n       [5. , 2.3, 3.3, 1. ],\n       [5.6, 2.7, 4.2, 1.3],\n       [5.7, 3. , 4.2, 1.2],\n       [5.7, 2.9, 4.2, 1.3],\n       [6.2, 2.9, 4.3, 1.3],\n       [5.1, 2.5, 3. , 1.1],\n       [5.7, 2.8, 4.1, 1.3],\n       [6.3, 3.3, 6. , 2.5],\n       [5.8, 2.7, 5.1, 1.9],\n       [7.1, 3. , 5.9, 2.1],\n       [6.3, 2.9, 5.6, 1.8],\n       [6.5, 3. , 5.8, 2.2],\n       [7.6, 3. , 6.6, 2.1],\n       [4.9, 2.5, 4.5, 1.7],\n       [7.3, 2.9, 6.3, 1.8],\n       [6.7, 2.5, 5.8, 1.8],\n       [7.2, 3.6, 6.1, 2.5],\n       [6.5, 3.2, 5.1, 2. ],\n       [6.4, 2.7, 5.3, 1.9],\n       [6.8, 3. , 5.5, 2.1],\n       [5.7, 2.5, 5. , 2. ],\n       [5.8, 2.8, 5.1, 2.4],\n       [6.4, 3.2, 5.3, 2.3],\n       [6.5, 3. , 5.5, 1.8],\n       [7.7, 3.8, 6.7, 2.2],\n       [7.7, 2.6, 6.9, 2.3],\n       [6. , 2.2, 5. , 1.5],\n       [6.9, 3.2, 5.7, 2.3],\n       [5.6, 2.8, 4.9, 2. ],\n       [7.7, 2.8, 6.7, 2. ],\n       [6.3, 2.7, 4.9, 1.8],\n       [6.7, 3.3, 5.7, 2.1],\n       [7.2, 3.2, 6. , 1.8],\n       [6.2, 2.8, 4.8, 1.8],\n       [6.1, 3. , 4.9, 1.8],\n       [6.4, 2.8, 5.6, 2.1],\n       [7.2, 3. , 5.8, 1.6],\n       [7.4, 2.8, 6.1, 1.9],\n       [7.9, 3.8, 6.4, 2. ],\n       [6.4, 2.8, 5.6, 2.2],\n       [6.3, 2.8, 5.1, 1.5],\n       [6.1, 2.6, 5.6, 1.4],\n       [7.7, 3. , 6.1, 2.3],\n       [6.3, 3.4, 5.6, 2.4],\n       [6.4, 3.1, 5.5, 1.8],\n       [6. , 3. , 4.8, 1.8],\n       [6.9, 3.1, 5.4, 2.1],\n       [6.7, 3.1, 5.6, 2.4],\n       [6.9, 3.1, 5.1, 2.3],\n       [5.8, 2.7, 5.1, 1.9],\n       [6.8, 3.2, 5.9, 2.3],\n       [6.7, 3.3, 5.7, 2.5],\n       [6.7, 3. , 5.2, 2.3],\n       [6.3, 2.5, 5. , 1.9],\n       [6.5, 3. , 5.2, 2. ],\n       [6.2, 3.4, 5.4, 2.3],\n       [5.9, 3. , 5.1, 1.8]])"
     },
     "execution_count": 26,
     "metadata": {},
     "output_type": "execute_result"
    }
   ],
   "source": [
    "X = iris.data\n",
    "X"
   ],
   "metadata": {
    "collapsed": false,
    "pycharm": {
     "name": "#%%\n"
    }
   }
  },
  {
   "cell_type": "code",
   "execution_count": 27,
   "outputs": [
    {
     "data": {
      "text/plain": "array([0, 0, 0, 0, 0, 0, 0, 0, 0, 0, 0, 0, 0, 0, 0, 0, 0, 0, 0, 0, 0, 0,\n       0, 0, 0, 0, 0, 0, 0, 0, 0, 0, 0, 0, 0, 0, 0, 0, 0, 0, 0, 0, 0, 0,\n       0, 0, 0, 0, 0, 0, 1, 1, 1, 1, 1, 1, 1, 1, 1, 1, 1, 1, 1, 1, 1, 1,\n       1, 1, 1, 1, 1, 1, 1, 1, 1, 1, 1, 1, 1, 1, 1, 1, 1, 1, 1, 1, 1, 1,\n       1, 1, 1, 1, 1, 1, 1, 1, 1, 1, 1, 1, 2, 2, 2, 2, 2, 2, 2, 2, 2, 2,\n       2, 2, 2, 2, 2, 2, 2, 2, 2, 2, 2, 2, 2, 2, 2, 2, 2, 2, 2, 2, 2, 2,\n       2, 2, 2, 2, 2, 2, 2, 2, 2, 2, 2, 2, 2, 2, 2, 2, 2, 2])"
     },
     "execution_count": 27,
     "metadata": {},
     "output_type": "execute_result"
    }
   ],
   "source": [
    "y = iris.target\n",
    "y"
   ],
   "metadata": {
    "collapsed": false,
    "pycharm": {
     "name": "#%%\n"
    }
   }
  },
  {
   "cell_type": "code",
   "execution_count": 28,
   "outputs": [],
   "source": [
    "X_train, X_test, y_train, y_test = train_test_split(X, y, test_size=0.2, stratify=y)"
   ],
   "metadata": {
    "collapsed": false,
    "pycharm": {
     "name": "#%%\n"
    }
   }
  },
  {
   "cell_type": "code",
   "execution_count": 29,
   "outputs": [],
   "source": [
    "scaler = StandardScaler()\n",
    "X_train = scaler.fit_transform(X_train)\n",
    "X_test = scaler.transform(X_test)"
   ],
   "metadata": {
    "collapsed": false,
    "pycharm": {
     "name": "#%%\n"
    }
   }
  },
  {
   "cell_type": "markdown",
   "source": [
    "## Классификация с помощью модели MLP"
   ],
   "metadata": {
    "collapsed": false,
    "pycharm": {
     "name": "#%% md\n"
    }
   }
  },
  {
   "cell_type": "code",
   "execution_count": 30,
   "outputs": [
    {
     "name": "stdout",
     "output_type": "stream",
     "text": [
      "object\n"
     ]
    }
   ],
   "source": [
    "model = mlp.MLP(inputs_count=X_train.shape[1], hidden_layers_counts_with_act_funcs=[(3, mlp.ActivationFunctions.sigmoid, mlp.ActivationFunctions.sigmoid_derivative),\n",
    "                                                                      (3, mlp.ActivationFunctions.sigmoid, mlp.ActivationFunctions.sigmoid_derivative)],\n",
    "                outputs_count_with_act_funcs=[(3, mlp.ActivationFunctions.sigmoid, mlp.ActivationFunctions.sigmoid_derivative)])\\\n",
    "    .fit(X_train, y_train, epochs=300, learning_rate=0.15)"
   ],
   "metadata": {
    "collapsed": false,
    "pycharm": {
     "name": "#%%\n"
    }
   }
  },
  {
   "cell_type": "code",
   "execution_count": 31,
   "outputs": [],
   "source": [
    "y_pred = []\n",
    "for i in range(len(X_test)):\n",
    "    y_pred.append(np.argmax(model.predict(X_test[i])))"
   ],
   "metadata": {
    "collapsed": false,
    "pycharm": {
     "name": "#%%\n"
    }
   }
  },
  {
   "cell_type": "code",
   "execution_count": 32,
   "outputs": [
    {
     "name": "stdout",
     "output_type": "stream",
     "text": [
      "[[ 0  0 10]\n",
      " [ 0  9  1]\n",
      " [ 0  0 10]]\n",
      "              precision    recall  f1-score   support\n",
      "\n",
      "           0       0.00      0.00      0.00        10\n",
      "           1       1.00      0.90      0.95        10\n",
      "           2       0.48      1.00      0.65        10\n",
      "\n",
      "    accuracy                           0.63        30\n",
      "   macro avg       0.49      0.63      0.53        30\n",
      "weighted avg       0.49      0.63      0.53        30\n",
      "\n"
     ]
    },
    {
     "name": "stderr",
     "output_type": "stream",
     "text": [
      "c:\\users\\dream\\appdata\\local\\programs\\python\\python39\\lib\\site-packages\\sklearn\\metrics\\_classification.py:1245: UndefinedMetricWarning: Precision and F-score are ill-defined and being set to 0.0 in labels with no predicted samples. Use `zero_division` parameter to control this behavior.\n",
      "  _warn_prf(average, modifier, msg_start, len(result))\n",
      "c:\\users\\dream\\appdata\\local\\programs\\python\\python39\\lib\\site-packages\\sklearn\\metrics\\_classification.py:1245: UndefinedMetricWarning: Precision and F-score are ill-defined and being set to 0.0 in labels with no predicted samples. Use `zero_division` parameter to control this behavior.\n",
      "  _warn_prf(average, modifier, msg_start, len(result))\n",
      "c:\\users\\dream\\appdata\\local\\programs\\python\\python39\\lib\\site-packages\\sklearn\\metrics\\_classification.py:1245: UndefinedMetricWarning: Precision and F-score are ill-defined and being set to 0.0 in labels with no predicted samples. Use `zero_division` parameter to control this behavior.\n",
      "  _warn_prf(average, modifier, msg_start, len(result))\n"
     ]
    }
   ],
   "source": [
    "print(confusion_matrix(y_test, y_pred))\n",
    "print(classification_report(y_test, y_pred))"
   ],
   "metadata": {
    "collapsed": false,
    "pycharm": {
     "name": "#%%\n"
    }
   }
  },
  {
   "cell_type": "markdown",
   "source": [
    "# Выводы"
   ],
   "metadata": {
    "collapsed": false
   }
  },
  {
   "cell_type": "markdown",
   "source": [
    "* Выполнена своя реализация многослойного персептрона\n",
    "* Модель протестирована на рекомендуемых датасетах\n",
    "* Качество классификации получилось немного хуже, чем при использовании базовых моделей\n",
    "* С большой вероятностью это связано с особенностями реализации (это действительно сложное задание)"
   ],
   "metadata": {
    "collapsed": false,
    "pycharm": {
     "name": "#%% md\n"
    }
   }
  }
 ],
 "metadata": {
  "kernelspec": {
   "name": "python3",
   "language": "python",
   "display_name": "Python 3"
  },
  "language_info": {
   "codemirror_mode": {
    "name": "ipython",
    "version": 2
   },
   "file_extension": ".py",
   "mimetype": "text/x-python",
   "name": "python",
   "nbconvert_exporter": "python",
   "pygments_lexer": "ipython2",
   "version": "2.7.6"
  }
 },
 "nbformat": 4,
 "nbformat_minor": 0
}